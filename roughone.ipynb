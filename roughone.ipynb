{
  "nbformat": 4,
  "nbformat_minor": 0,
  "metadata": {
    "colab": {
      "name": "roughone.ipynb",
      "provenance": [],
      "collapsed_sections": [],
      "authorship_tag": "ABX9TyMZ/u0zXGr15qvqK9L4r7O8",
      "include_colab_link": true
    },
    "kernelspec": {
      "name": "python3",
      "display_name": "Python 3"
    },
    "language_info": {
      "name": "python"
    }
  },
  "cells": [
    {
      "cell_type": "markdown",
      "metadata": {
        "id": "view-in-github",
        "colab_type": "text"
      },
      "source": [
        "<a href=\"https://colab.research.google.com/github/RishivelRakesh/pythonanalyticslab/blob/main/roughone.ipynb\" target=\"_parent\"><img src=\"https://colab.research.google.com/assets/colab-badge.svg\" alt=\"Open In Colab\"/></a>"
      ]
    },
    {
      "cell_type": "markdown",
      "metadata": {
        "id": "3iZGPgNEfUVh"
      },
      "source": [
        "direct drive connect"
      ]
    },
    {
      "cell_type": "code",
      "metadata": {
        "colab": {
          "base_uri": "https://localhost:8080/"
        },
        "id": "8rOSK6pNb6ob",
        "outputId": "15e4f854-0df9-4111-ddf2-c59896f5e026"
      },
      "source": [
        "from google.colab import drive\n",
        "drive.mount('/content/drive')"
      ],
      "execution_count": 3,
      "outputs": [
        {
          "output_type": "stream",
          "text": [
            "Mounted at /content/drive\n"
          ],
          "name": "stdout"
        }
      ]
    },
    {
      "cell_type": "markdown",
      "metadata": {
        "id": "XeGDpjHTfNYX"
      },
      "source": [
        ""
      ]
    },
    {
      "cell_type": "code",
      "metadata": {
        "colab": {
          "base_uri": "https://localhost:8080/"
        },
        "id": "b50edkWEfN-K",
        "outputId": "b8879ffc-c38f-4d8f-f413-bf0b012cca54"
      },
      "source": [
        "\n",
        "import pandas as pd\n",
        "df=pd.read_csv(\"/content/drive/MyDrive/deathfile.csv\")\n",
        "df.describe"
      ],
      "execution_count": 4,
      "outputs": [
        {
          "output_type": "execute_result",
          "data": {
            "text/plain": [
              "<bound method NDFrame.describe of       TIME     GEO  ...    Value Flag and Footnotes\n",
              "0     2001  France  ...  277 858                NaN\n",
              "1     2001  France  ...    5 347                NaN\n",
              "2     2001  France  ...      545                NaN\n",
              "3     2001  France  ...       30                NaN\n",
              "4     2001  France  ...      471                NaN\n",
              "...    ...     ...  ...      ...                ...\n",
              "1051  2008  France  ...    2 815                NaN\n",
              "1052  2008  France  ...      630                NaN\n",
              "1053  2008  France  ...    2 768                NaN\n",
              "1054  2008  France  ...      166                NaN\n",
              "1055  2008  France  ...       68                NaN\n",
              "\n",
              "[1056 rows x 8 columns]>"
            ]
          },
          "metadata": {
            "tags": []
          },
          "execution_count": 4
        }
      ]
    }
  ]
}