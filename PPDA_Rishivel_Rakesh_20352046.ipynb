{
  "nbformat": 4,
  "nbformat_minor": 0,
  "metadata": {
    "colab": {
      "name": "PPDA_Rishivel_Rakesh-20352046.ipynb",
      "provenance": [],
      "collapsed_sections": [],
      "authorship_tag": "ABX9TyPVX4UGtV5deS6xlziRI/wm",
      "include_colab_link": true
    },
    "kernelspec": {
      "name": "python3",
      "display_name": "Python 3"
    },
    "language_info": {
      "name": "python"
    }
  },
  "cells": [
    {
      "cell_type": "markdown",
      "metadata": {
        "id": "view-in-github",
        "colab_type": "text"
      },
      "source": [
        "<a href=\"https://colab.research.google.com/github/RishivelRakesh/pythonanalyticslab/blob/main/PPDA_Rishivel_Rakesh_20352046.ipynb\" target=\"_parent\"><img src=\"https://colab.research.google.com/assets/colab-badge.svg\" alt=\"Open In Colab\"/></a>"
      ]
    },
    {
      "cell_type": "markdown",
      "metadata": {
        "id": "GB0MnT-9yI9R"
      },
      "source": [
        "\n",
        "---\n",
        "# **Python Programming for Data Analytics - CSCA 562**\n",
        "\n",
        "\n",
        "> ### **Reg No :** 20352046\n",
        "\n",
        "\n",
        "\n",
        "> ### **Name :** RISHIVEL RAKESH.R\n",
        "\n",
        "\n",
        "\n",
        "\n",
        "> ### **Submission Date:** 17/07/2021\n",
        "\n"
      ]
    },
    {
      "cell_type": "markdown",
      "metadata": {
        "id": "3iZGPgNEfUVh"
      },
      "source": [
        "**1. UPLOADING CSV FILE UPLOAD USING DRIVE.**"
      ]
    },
    {
      "cell_type": "code",
      "metadata": {
        "colab": {
          "base_uri": "https://localhost:8080/",
          "height": 0
        },
        "id": "8rOSK6pNb6ob",
        "outputId": "92a2c201-0736-4b12-9a5b-1761dbc5706e"
      },
      "source": [
        "from google.colab import drive\n",
        "drive.mount('/content/drive')"
      ],
      "execution_count": 6,
      "outputs": [
        {
          "output_type": "stream",
          "text": [
            "Drive already mounted at /content/drive; to attempt to forcibly remount, call drive.mount(\"/content/drive\", force_remount=True).\n"
          ],
          "name": "stdout"
        }
      ]
    },
    {
      "cell_type": "code",
      "metadata": {
        "colab": {
          "base_uri": "https://localhost:8080/",
          "height": 0
        },
        "id": "YM1wM1vKy54G",
        "outputId": "7b0ace7e-b738-410e-8c0b-85f2f7b40a28"
      },
      "source": [
        "import pandas as pd\n",
        "df=pd.read_csv(\"/content/drive/MyDrive/AirBNB.csv\")\n",
        "df.describe"
      ],
      "execution_count": 8,
      "outputs": [
        {
          "output_type": "stream",
          "text": [
            "/usr/local/lib/python3.7/dist-packages/IPython/core/interactiveshell.py:2718: DtypeWarning: Columns (5) have mixed types.Specify dtype option on import or set low_memory=False.\n",
            "  interactivity=interactivity, compiler=compiler, result=result)\n"
          ],
          "name": "stderr"
        },
        {
          "output_type": "execute_result",
          "data": {
            "text/plain": [
              "<bound method NDFrame.describe of              id        room_type  accommodates  ...  bedrooms beds log_price\n",
              "0       6901257  Entire home/apt           3.0  ...       1.0  1.0  5.010635\n",
              "1       6304928  Entire home/apt           7.0  ...       3.0  3.0  5.129899\n",
              "2       7919400  Entire home/apt           5.0  ...       1.0  3.0  4.976734\n",
              "3      13418779  Entire home/apt           4.0  ...       2.0  2.0  6.620073\n",
              "4       3808709  Entire home/apt           2.0  ...       0.0  1.0  4.744932\n",
              "...         ...              ...           ...  ...       ...  ...       ...\n",
              "74106  14549287     Private room           1.0  ...       1.0  1.0  4.605170\n",
              "74107  13281809  Entire home/apt           4.0  ...       2.0  4.0  5.043425\n",
              "74108  18688039  Entire home/apt           5.0  ...       2.0  2.0  5.220356\n",
              "74109  17045948  Entire home/apt           2.0  ...       0.0  2.0  5.273000\n",
              "74110   3534845  Entire home/apt           4.0  ...       1.0  2.0  4.852030\n",
              "\n",
              "[74111 rows x 11 columns]>"
            ]
          },
          "metadata": {
            "tags": []
          },
          "execution_count": 8
        }
      ]
    },
    {
      "cell_type": "markdown",
      "metadata": {
        "id": "cQe1h2SFz3Z1"
      },
      "source": [
        "## **DATASET**"
      ]
    },
    {
      "cell_type": "code",
      "metadata": {
        "colab": {
          "base_uri": "https://localhost:8080/",
          "height": 359
        },
        "id": "Gi3ddfx44Vr1",
        "outputId": "5dbef958-2bd3-4051-987f-045c62d07f77"
      },
      "source": [
        "df.head(10)"
      ],
      "execution_count": 16,
      "outputs": [
        {
          "output_type": "execute_result",
          "data": {
            "text/html": [
              "<div>\n",
              "<style scoped>\n",
              "    .dataframe tbody tr th:only-of-type {\n",
              "        vertical-align: middle;\n",
              "    }\n",
              "\n",
              "    .dataframe tbody tr th {\n",
              "        vertical-align: top;\n",
              "    }\n",
              "\n",
              "    .dataframe thead th {\n",
              "        text-align: right;\n",
              "    }\n",
              "</style>\n",
              "<table border=\"1\" class=\"dataframe\">\n",
              "  <thead>\n",
              "    <tr style=\"text-align: right;\">\n",
              "      <th></th>\n",
              "      <th>id</th>\n",
              "      <th>room_type</th>\n",
              "      <th>accommodates</th>\n",
              "      <th>bathrooms</th>\n",
              "      <th>cancellation_policy</th>\n",
              "      <th>cleaning_fee</th>\n",
              "      <th>instant_bookable</th>\n",
              "      <th>review_scores_rating</th>\n",
              "      <th>bedrooms</th>\n",
              "      <th>beds</th>\n",
              "      <th>log_price</th>\n",
              "    </tr>\n",
              "  </thead>\n",
              "  <tbody>\n",
              "    <tr>\n",
              "      <th>0</th>\n",
              "      <td>6901257</td>\n",
              "      <td>Entire home/apt</td>\n",
              "      <td>3.0</td>\n",
              "      <td>1.0</td>\n",
              "      <td>strict</td>\n",
              "      <td>True</td>\n",
              "      <td>f</td>\n",
              "      <td>100.0</td>\n",
              "      <td>1.0</td>\n",
              "      <td>1.0</td>\n",
              "      <td>5.010635</td>\n",
              "    </tr>\n",
              "    <tr>\n",
              "      <th>1</th>\n",
              "      <td>6304928</td>\n",
              "      <td>Entire home/apt</td>\n",
              "      <td>7.0</td>\n",
              "      <td>1.0</td>\n",
              "      <td>strict</td>\n",
              "      <td>True</td>\n",
              "      <td>t</td>\n",
              "      <td>93.0</td>\n",
              "      <td>3.0</td>\n",
              "      <td>3.0</td>\n",
              "      <td>5.129899</td>\n",
              "    </tr>\n",
              "    <tr>\n",
              "      <th>2</th>\n",
              "      <td>7919400</td>\n",
              "      <td>Entire home/apt</td>\n",
              "      <td>5.0</td>\n",
              "      <td>1.0</td>\n",
              "      <td>moderate</td>\n",
              "      <td>True</td>\n",
              "      <td>t</td>\n",
              "      <td>92.0</td>\n",
              "      <td>1.0</td>\n",
              "      <td>3.0</td>\n",
              "      <td>4.976734</td>\n",
              "    </tr>\n",
              "    <tr>\n",
              "      <th>3</th>\n",
              "      <td>13418779</td>\n",
              "      <td>Entire home/apt</td>\n",
              "      <td>4.0</td>\n",
              "      <td>1.0</td>\n",
              "      <td>flexible</td>\n",
              "      <td>True</td>\n",
              "      <td>f</td>\n",
              "      <td>NaN</td>\n",
              "      <td>2.0</td>\n",
              "      <td>2.0</td>\n",
              "      <td>6.620073</td>\n",
              "    </tr>\n",
              "    <tr>\n",
              "      <th>4</th>\n",
              "      <td>3808709</td>\n",
              "      <td>Entire home/apt</td>\n",
              "      <td>2.0</td>\n",
              "      <td>1.0</td>\n",
              "      <td>moderate</td>\n",
              "      <td>True</td>\n",
              "      <td>t</td>\n",
              "      <td>40.0</td>\n",
              "      <td>0.0</td>\n",
              "      <td>1.0</td>\n",
              "      <td>4.744932</td>\n",
              "    </tr>\n",
              "    <tr>\n",
              "      <th>5</th>\n",
              "      <td>12422935</td>\n",
              "      <td>Private room</td>\n",
              "      <td>2.0</td>\n",
              "      <td>1.0</td>\n",
              "      <td>strict</td>\n",
              "      <td>True</td>\n",
              "      <td>t</td>\n",
              "      <td>100.0</td>\n",
              "      <td>1.0</td>\n",
              "      <td>1.0</td>\n",
              "      <td>4.442651</td>\n",
              "    </tr>\n",
              "    <tr>\n",
              "      <th>6</th>\n",
              "      <td>11825529</td>\n",
              "      <td>Entire home/apt</td>\n",
              "      <td>3.0</td>\n",
              "      <td>1.0</td>\n",
              "      <td>moderate</td>\n",
              "      <td>True</td>\n",
              "      <td>t</td>\n",
              "      <td>97.0</td>\n",
              "      <td>1.0</td>\n",
              "      <td>1.0</td>\n",
              "      <td>4.418841</td>\n",
              "    </tr>\n",
              "    <tr>\n",
              "      <th>7</th>\n",
              "      <td>13971273</td>\n",
              "      <td>Entire home/apt</td>\n",
              "      <td>2.0</td>\n",
              "      <td>1.0</td>\n",
              "      <td>moderate</td>\n",
              "      <td>True</td>\n",
              "      <td>f</td>\n",
              "      <td>93.0</td>\n",
              "      <td>1.0</td>\n",
              "      <td>1.0</td>\n",
              "      <td>4.787492</td>\n",
              "    </tr>\n",
              "    <tr>\n",
              "      <th>8</th>\n",
              "      <td>180792</td>\n",
              "      <td>Private room</td>\n",
              "      <td>2.0</td>\n",
              "      <td>1.0</td>\n",
              "      <td>moderate</td>\n",
              "      <td>True</td>\n",
              "      <td>f</td>\n",
              "      <td>99.0</td>\n",
              "      <td>1.0</td>\n",
              "      <td>1.0</td>\n",
              "      <td>4.787492</td>\n",
              "    </tr>\n",
              "    <tr>\n",
              "      <th>9</th>\n",
              "      <td>5385260</td>\n",
              "      <td>Private room</td>\n",
              "      <td>2.0</td>\n",
              "      <td>1.0</td>\n",
              "      <td>moderate</td>\n",
              "      <td>True</td>\n",
              "      <td>t</td>\n",
              "      <td>90.0</td>\n",
              "      <td>1.0</td>\n",
              "      <td>1.0</td>\n",
              "      <td>3.583519</td>\n",
              "    </tr>\n",
              "  </tbody>\n",
              "</table>\n",
              "</div>"
            ],
            "text/plain": [
              "         id        room_type  accommodates  ...  bedrooms beds log_price\n",
              "0   6901257  Entire home/apt           3.0  ...       1.0  1.0  5.010635\n",
              "1   6304928  Entire home/apt           7.0  ...       3.0  3.0  5.129899\n",
              "2   7919400  Entire home/apt           5.0  ...       1.0  3.0  4.976734\n",
              "3  13418779  Entire home/apt           4.0  ...       2.0  2.0  6.620073\n",
              "4   3808709  Entire home/apt           2.0  ...       0.0  1.0  4.744932\n",
              "5  12422935     Private room           2.0  ...       1.0  1.0  4.442651\n",
              "6  11825529  Entire home/apt           3.0  ...       1.0  1.0  4.418841\n",
              "7  13971273  Entire home/apt           2.0  ...       1.0  1.0  4.787492\n",
              "8    180792     Private room           2.0  ...       1.0  1.0  4.787492\n",
              "9   5385260     Private room           2.0  ...       1.0  1.0  3.583519\n",
              "\n",
              "[10 rows x 11 columns]"
            ]
          },
          "metadata": {
            "tags": []
          },
          "execution_count": 16
        }
      ]
    },
    {
      "cell_type": "code",
      "metadata": {
        "colab": {
          "base_uri": "https://localhost:8080/",
          "height": 204
        },
        "id": "DrvMpytZDgmV",
        "outputId": "20db7aff-69a7-4ac5-d95c-ae449e1a7f49"
      },
      "source": [
        "df.tail()\n"
      ],
      "execution_count": 39,
      "outputs": [
        {
          "output_type": "execute_result",
          "data": {
            "text/html": [
              "<div>\n",
              "<style scoped>\n",
              "    .dataframe tbody tr th:only-of-type {\n",
              "        vertical-align: middle;\n",
              "    }\n",
              "\n",
              "    .dataframe tbody tr th {\n",
              "        vertical-align: top;\n",
              "    }\n",
              "\n",
              "    .dataframe thead th {\n",
              "        text-align: right;\n",
              "    }\n",
              "</style>\n",
              "<table border=\"1\" class=\"dataframe\">\n",
              "  <thead>\n",
              "    <tr style=\"text-align: right;\">\n",
              "      <th></th>\n",
              "      <th>id</th>\n",
              "      <th>room_type</th>\n",
              "      <th>accommodates</th>\n",
              "      <th>bathrooms</th>\n",
              "      <th>cancellation_policy</th>\n",
              "      <th>cleaning_fee</th>\n",
              "      <th>instant_bookable</th>\n",
              "      <th>review_scores_rating</th>\n",
              "      <th>bedrooms</th>\n",
              "      <th>beds</th>\n",
              "      <th>log_price</th>\n",
              "    </tr>\n",
              "  </thead>\n",
              "  <tbody>\n",
              "    <tr>\n",
              "      <th>74104</th>\n",
              "      <td>14934112</td>\n",
              "      <td>Entire home/apt</td>\n",
              "      <td>2.0</td>\n",
              "      <td>1.0</td>\n",
              "      <td>strict</td>\n",
              "      <td>True</td>\n",
              "      <td>f</td>\n",
              "      <td>100.0</td>\n",
              "      <td>1.0</td>\n",
              "      <td>1.0</td>\n",
              "      <td>4.356709</td>\n",
              "    </tr>\n",
              "    <tr>\n",
              "      <th>74105</th>\n",
              "      <td>808802</td>\n",
              "      <td>Private room</td>\n",
              "      <td>2.0</td>\n",
              "      <td>1.0</td>\n",
              "      <td>moderate</td>\n",
              "      <td>True</td>\n",
              "      <td>f</td>\n",
              "      <td>91.0</td>\n",
              "      <td>1.0</td>\n",
              "      <td>1.0</td>\n",
              "      <td>4.248495</td>\n",
              "    </tr>\n",
              "    <tr>\n",
              "      <th>74107</th>\n",
              "      <td>13281809</td>\n",
              "      <td>Entire home/apt</td>\n",
              "      <td>4.0</td>\n",
              "      <td>2.0</td>\n",
              "      <td>moderate</td>\n",
              "      <td>True</td>\n",
              "      <td>f</td>\n",
              "      <td>93.0</td>\n",
              "      <td>2.0</td>\n",
              "      <td>4.0</td>\n",
              "      <td>5.043425</td>\n",
              "    </tr>\n",
              "    <tr>\n",
              "      <th>74108</th>\n",
              "      <td>18688039</td>\n",
              "      <td>Entire home/apt</td>\n",
              "      <td>5.0</td>\n",
              "      <td>1.0</td>\n",
              "      <td>moderate</td>\n",
              "      <td>True</td>\n",
              "      <td>t</td>\n",
              "      <td>94.0</td>\n",
              "      <td>2.0</td>\n",
              "      <td>2.0</td>\n",
              "      <td>5.220356</td>\n",
              "    </tr>\n",
              "    <tr>\n",
              "      <th>74110</th>\n",
              "      <td>3534845</td>\n",
              "      <td>Entire home/apt</td>\n",
              "      <td>4.0</td>\n",
              "      <td>1.0</td>\n",
              "      <td>moderate</td>\n",
              "      <td>False</td>\n",
              "      <td>f</td>\n",
              "      <td>96.0</td>\n",
              "      <td>1.0</td>\n",
              "      <td>2.0</td>\n",
              "      <td>4.852030</td>\n",
              "    </tr>\n",
              "  </tbody>\n",
              "</table>\n",
              "</div>"
            ],
            "text/plain": [
              "             id        room_type  accommodates  ...  bedrooms beds log_price\n",
              "74104  14934112  Entire home/apt           2.0  ...       1.0  1.0  4.356709\n",
              "74105    808802     Private room           2.0  ...       1.0  1.0  4.248495\n",
              "74107  13281809  Entire home/apt           4.0  ...       2.0  4.0  5.043425\n",
              "74108  18688039  Entire home/apt           5.0  ...       2.0  2.0  5.220356\n",
              "74110   3534845  Entire home/apt           4.0  ...       1.0  2.0  4.852030\n",
              "\n",
              "[5 rows x 11 columns]"
            ]
          },
          "metadata": {
            "tags": []
          },
          "execution_count": 39
        }
      ]
    },
    {
      "cell_type": "code",
      "metadata": {
        "colab": {
          "base_uri": "https://localhost:8080/",
          "height": 0
        },
        "id": "3cb-5z_sDmr1",
        "outputId": "cd680855-b566-4726-9561-d271df20e384"
      },
      "source": [
        "#finding how much col and rows are there in dataset\n",
        "df.shape"
      ],
      "execution_count": 40,
      "outputs": [
        {
          "output_type": "execute_result",
          "data": {
            "text/plain": [
              "(57119, 11)"
            ]
          },
          "metadata": {
            "tags": []
          },
          "execution_count": 40
        }
      ]
    },
    {
      "cell_type": "code",
      "metadata": {
        "colab": {
          "base_uri": "https://localhost:8080/",
          "height": 0
        },
        "id": "QvSabvN2Dp5b",
        "outputId": "8b80d169-0d3e-4e79-c27e-8f73c2c3aa8b"
      },
      "source": [
        "df.columns\n"
      ],
      "execution_count": 41,
      "outputs": [
        {
          "output_type": "execute_result",
          "data": {
            "text/plain": [
              "Index(['id', 'room_type', 'accommodates', 'bathrooms', 'cancellation_policy',\n",
              "       'cleaning_fee', 'instant_bookable', 'review_scores_rating', 'bedrooms',\n",
              "       'beds', 'log_price'],\n",
              "      dtype='object')"
            ]
          },
          "metadata": {
            "tags": []
          },
          "execution_count": 41
        }
      ]
    },
    {
      "cell_type": "code",
      "metadata": {
        "colab": {
          "base_uri": "https://localhost:8080/",
          "height": 0
        },
        "id": "NsopS0zYDr9M",
        "outputId": "ccc80907-85d7-45cf-e40f-fd120f933534"
      },
      "source": [
        "df.describe\n"
      ],
      "execution_count": 42,
      "outputs": [
        {
          "output_type": "execute_result",
          "data": {
            "text/plain": [
              "<bound method NDFrame.describe of              id        room_type  accommodates  ...  bedrooms beds log_price\n",
              "0       6901257  Entire home/apt           3.0  ...       1.0  1.0  5.010635\n",
              "1       6304928  Entire home/apt           7.0  ...       3.0  3.0  5.129899\n",
              "2       7919400  Entire home/apt           5.0  ...       1.0  3.0  4.976734\n",
              "4       3808709  Entire home/apt           2.0  ...       0.0  1.0  4.744932\n",
              "5      12422935     Private room           2.0  ...       1.0  1.0  4.442651\n",
              "...         ...              ...           ...  ...       ...  ...       ...\n",
              "74104  14934112  Entire home/apt           2.0  ...       1.0  1.0  4.356709\n",
              "74105    808802     Private room           2.0  ...       1.0  1.0  4.248495\n",
              "74107  13281809  Entire home/apt           4.0  ...       2.0  4.0  5.043425\n",
              "74108  18688039  Entire home/apt           5.0  ...       2.0  2.0  5.220356\n",
              "74110   3534845  Entire home/apt           4.0  ...       1.0  2.0  4.852030\n",
              "\n",
              "[57119 rows x 11 columns]>"
            ]
          },
          "metadata": {
            "tags": []
          },
          "execution_count": 42
        }
      ]
    },
    {
      "cell_type": "code",
      "metadata": {
        "colab": {
          "base_uri": "https://localhost:8080/",
          "height": 0
        },
        "id": "u0k4knuXDvJT",
        "outputId": "c7232174-7773-4a99-856e-93202a7b2b91"
      },
      "source": [
        "df.nunique()\n"
      ],
      "execution_count": 43,
      "outputs": [
        {
          "output_type": "execute_result",
          "data": {
            "text/plain": [
              "id                      57119\n",
              "room_type                   3\n",
              "accommodates               16\n",
              "bathrooms                  17\n",
              "cancellation_policy         3\n",
              "cleaning_fee                2\n",
              "instant_bookable            2\n",
              "review_scores_rating       54\n",
              "bedrooms                   11\n",
              "beds                       18\n",
              "log_price                 668\n",
              "dtype: int64"
            ]
          },
          "metadata": {
            "tags": []
          },
          "execution_count": 43
        }
      ]
    },
    {
      "cell_type": "code",
      "metadata": {
        "colab": {
          "base_uri": "https://localhost:8080/",
          "height": 0
        },
        "id": "FfrIwuyaDxzN",
        "outputId": "e537d948-cf0b-4df6-ceab-6bb0671f75bc"
      },
      "source": [
        "df['bathrooms'].unique()\n"
      ],
      "execution_count": 44,
      "outputs": [
        {
          "output_type": "execute_result",
          "data": {
            "text/plain": [
              "array([1. , 1.5, 2. , 2.5, 3. , 0.5, 0. , 4. , 3.5, 4.5, 5.5, 5. , 7. ,\n",
              "       6.5, 8. , 6. , 7.5])"
            ]
          },
          "metadata": {
            "tags": []
          },
          "execution_count": 44
        }
      ]
    },
    {
      "cell_type": "markdown",
      "metadata": {
        "id": "ITah7zc7D6lY"
      },
      "source": [
        "## **DATA CLEANING**"
      ]
    },
    {
      "cell_type": "code",
      "metadata": {
        "colab": {
          "base_uri": "https://localhost:8080/",
          "height": 0
        },
        "id": "JJOIzWjiz5dV",
        "outputId": "087f7ac5-0502-4649-892d-03e76f651df5"
      },
      "source": [
        "#Null values in each column\n",
        "df.isnull().sum()"
      ],
      "execution_count": 11,
      "outputs": [
        {
          "output_type": "execute_result",
          "data": {
            "text/plain": [
              "id                          0\n",
              "room_type                   5\n",
              "accommodates                3\n",
              "bathrooms                 203\n",
              "cancellation_policy         8\n",
              "cleaning_fee                4\n",
              "instant_bookable            0\n",
              "review_scores_rating    16722\n",
              "bedrooms                   92\n",
              "beds                      131\n",
              "log_price                   0\n",
              "dtype: int64"
            ]
          },
          "metadata": {
            "tags": []
          },
          "execution_count": 11
        }
      ]
    },
    {
      "cell_type": "code",
      "metadata": {
        "id": "wJefgqzs4yEt"
      },
      "source": [
        "#removing Null values present in Dataset\n",
        "df.dropna(inplace = True)"
      ],
      "execution_count": 21,
      "outputs": []
    },
    {
      "cell_type": "code",
      "metadata": {
        "colab": {
          "base_uri": "https://localhost:8080/",
          "height": 0
        },
        "id": "UpvWl2FZ5CM_",
        "outputId": "1e535b69-03bb-4c31-d832-354de1d76b00"
      },
      "source": [
        "df.info()"
      ],
      "execution_count": 19,
      "outputs": [
        {
          "output_type": "stream",
          "text": [
            "<class 'pandas.core.frame.DataFrame'>\n",
            "Int64Index: 57119 entries, 0 to 74110\n",
            "Data columns (total 11 columns):\n",
            " #   Column                Non-Null Count  Dtype  \n",
            "---  ------                --------------  -----  \n",
            " 0   id                    57119 non-null  int64  \n",
            " 1   room_type             57119 non-null  object \n",
            " 2   accommodates          57119 non-null  float64\n",
            " 3   bathrooms             57119 non-null  float64\n",
            " 4   cancellation_policy   57119 non-null  object \n",
            " 5   cleaning_fee          57119 non-null  object \n",
            " 6   instant_bookable      57119 non-null  object \n",
            " 7   review_scores_rating  57119 non-null  float64\n",
            " 8   bedrooms              57119 non-null  float64\n",
            " 9   beds                  57119 non-null  float64\n",
            " 10  log_price             57119 non-null  float64\n",
            "dtypes: float64(6), int64(1), object(4)\n",
            "memory usage: 5.2+ MB\n"
          ],
          "name": "stdout"
        }
      ]
    },
    {
      "cell_type": "code",
      "metadata": {
        "colab": {
          "base_uri": "https://localhost:8080/",
          "height": 419
        },
        "id": "Uc8wfL5uEOj0",
        "outputId": "aac52340-5e9f-4607-9117-a1be02d2df97"
      },
      "source": [
        "#deleting rows that has null value\n",
        "df.dropna(subset=['beds'],inplace=True)\n",
        "df\n"
      ],
      "execution_count": 47,
      "outputs": [
        {
          "output_type": "execute_result",
          "data": {
            "text/html": [
              "<div>\n",
              "<style scoped>\n",
              "    .dataframe tbody tr th:only-of-type {\n",
              "        vertical-align: middle;\n",
              "    }\n",
              "\n",
              "    .dataframe tbody tr th {\n",
              "        vertical-align: top;\n",
              "    }\n",
              "\n",
              "    .dataframe thead th {\n",
              "        text-align: right;\n",
              "    }\n",
              "</style>\n",
              "<table border=\"1\" class=\"dataframe\">\n",
              "  <thead>\n",
              "    <tr style=\"text-align: right;\">\n",
              "      <th></th>\n",
              "      <th>id</th>\n",
              "      <th>room_type</th>\n",
              "      <th>accommodates</th>\n",
              "      <th>bathrooms</th>\n",
              "      <th>cancellation_policy</th>\n",
              "      <th>cleaning_fee</th>\n",
              "      <th>instant_bookable</th>\n",
              "      <th>review_scores_rating</th>\n",
              "      <th>bedrooms</th>\n",
              "      <th>beds</th>\n",
              "      <th>log_price</th>\n",
              "    </tr>\n",
              "  </thead>\n",
              "  <tbody>\n",
              "    <tr>\n",
              "      <th>0</th>\n",
              "      <td>6901257</td>\n",
              "      <td>Entire home/apt</td>\n",
              "      <td>3.0</td>\n",
              "      <td>1.0</td>\n",
              "      <td>strict</td>\n",
              "      <td>True</td>\n",
              "      <td>f</td>\n",
              "      <td>100.0</td>\n",
              "      <td>1.0</td>\n",
              "      <td>1.0</td>\n",
              "      <td>5.010635</td>\n",
              "    </tr>\n",
              "    <tr>\n",
              "      <th>1</th>\n",
              "      <td>6304928</td>\n",
              "      <td>Entire home/apt</td>\n",
              "      <td>7.0</td>\n",
              "      <td>1.0</td>\n",
              "      <td>strict</td>\n",
              "      <td>True</td>\n",
              "      <td>t</td>\n",
              "      <td>93.0</td>\n",
              "      <td>3.0</td>\n",
              "      <td>3.0</td>\n",
              "      <td>5.129899</td>\n",
              "    </tr>\n",
              "    <tr>\n",
              "      <th>2</th>\n",
              "      <td>7919400</td>\n",
              "      <td>Entire home/apt</td>\n",
              "      <td>5.0</td>\n",
              "      <td>1.0</td>\n",
              "      <td>moderate</td>\n",
              "      <td>True</td>\n",
              "      <td>t</td>\n",
              "      <td>92.0</td>\n",
              "      <td>1.0</td>\n",
              "      <td>3.0</td>\n",
              "      <td>4.976734</td>\n",
              "    </tr>\n",
              "    <tr>\n",
              "      <th>4</th>\n",
              "      <td>3808709</td>\n",
              "      <td>Entire home/apt</td>\n",
              "      <td>2.0</td>\n",
              "      <td>1.0</td>\n",
              "      <td>moderate</td>\n",
              "      <td>True</td>\n",
              "      <td>t</td>\n",
              "      <td>40.0</td>\n",
              "      <td>0.0</td>\n",
              "      <td>1.0</td>\n",
              "      <td>4.744932</td>\n",
              "    </tr>\n",
              "    <tr>\n",
              "      <th>5</th>\n",
              "      <td>12422935</td>\n",
              "      <td>Private room</td>\n",
              "      <td>2.0</td>\n",
              "      <td>1.0</td>\n",
              "      <td>strict</td>\n",
              "      <td>True</td>\n",
              "      <td>t</td>\n",
              "      <td>100.0</td>\n",
              "      <td>1.0</td>\n",
              "      <td>1.0</td>\n",
              "      <td>4.442651</td>\n",
              "    </tr>\n",
              "    <tr>\n",
              "      <th>...</th>\n",
              "      <td>...</td>\n",
              "      <td>...</td>\n",
              "      <td>...</td>\n",
              "      <td>...</td>\n",
              "      <td>...</td>\n",
              "      <td>...</td>\n",
              "      <td>...</td>\n",
              "      <td>...</td>\n",
              "      <td>...</td>\n",
              "      <td>...</td>\n",
              "      <td>...</td>\n",
              "    </tr>\n",
              "    <tr>\n",
              "      <th>74104</th>\n",
              "      <td>14934112</td>\n",
              "      <td>Entire home/apt</td>\n",
              "      <td>2.0</td>\n",
              "      <td>1.0</td>\n",
              "      <td>strict</td>\n",
              "      <td>True</td>\n",
              "      <td>f</td>\n",
              "      <td>100.0</td>\n",
              "      <td>1.0</td>\n",
              "      <td>1.0</td>\n",
              "      <td>4.356709</td>\n",
              "    </tr>\n",
              "    <tr>\n",
              "      <th>74105</th>\n",
              "      <td>808802</td>\n",
              "      <td>Private room</td>\n",
              "      <td>2.0</td>\n",
              "      <td>1.0</td>\n",
              "      <td>moderate</td>\n",
              "      <td>True</td>\n",
              "      <td>f</td>\n",
              "      <td>91.0</td>\n",
              "      <td>1.0</td>\n",
              "      <td>1.0</td>\n",
              "      <td>4.248495</td>\n",
              "    </tr>\n",
              "    <tr>\n",
              "      <th>74107</th>\n",
              "      <td>13281809</td>\n",
              "      <td>Entire home/apt</td>\n",
              "      <td>4.0</td>\n",
              "      <td>2.0</td>\n",
              "      <td>moderate</td>\n",
              "      <td>True</td>\n",
              "      <td>f</td>\n",
              "      <td>93.0</td>\n",
              "      <td>2.0</td>\n",
              "      <td>4.0</td>\n",
              "      <td>5.043425</td>\n",
              "    </tr>\n",
              "    <tr>\n",
              "      <th>74108</th>\n",
              "      <td>18688039</td>\n",
              "      <td>Entire home/apt</td>\n",
              "      <td>5.0</td>\n",
              "      <td>1.0</td>\n",
              "      <td>moderate</td>\n",
              "      <td>True</td>\n",
              "      <td>t</td>\n",
              "      <td>94.0</td>\n",
              "      <td>2.0</td>\n",
              "      <td>2.0</td>\n",
              "      <td>5.220356</td>\n",
              "    </tr>\n",
              "    <tr>\n",
              "      <th>74110</th>\n",
              "      <td>3534845</td>\n",
              "      <td>Entire home/apt</td>\n",
              "      <td>4.0</td>\n",
              "      <td>1.0</td>\n",
              "      <td>moderate</td>\n",
              "      <td>False</td>\n",
              "      <td>f</td>\n",
              "      <td>96.0</td>\n",
              "      <td>1.0</td>\n",
              "      <td>2.0</td>\n",
              "      <td>4.852030</td>\n",
              "    </tr>\n",
              "  </tbody>\n",
              "</table>\n",
              "<p>57119 rows × 11 columns</p>\n",
              "</div>"
            ],
            "text/plain": [
              "             id        room_type  accommodates  ...  bedrooms beds log_price\n",
              "0       6901257  Entire home/apt           3.0  ...       1.0  1.0  5.010635\n",
              "1       6304928  Entire home/apt           7.0  ...       3.0  3.0  5.129899\n",
              "2       7919400  Entire home/apt           5.0  ...       1.0  3.0  4.976734\n",
              "4       3808709  Entire home/apt           2.0  ...       0.0  1.0  4.744932\n",
              "5      12422935     Private room           2.0  ...       1.0  1.0  4.442651\n",
              "...         ...              ...           ...  ...       ...  ...       ...\n",
              "74104  14934112  Entire home/apt           2.0  ...       1.0  1.0  4.356709\n",
              "74105    808802     Private room           2.0  ...       1.0  1.0  4.248495\n",
              "74107  13281809  Entire home/apt           4.0  ...       2.0  4.0  5.043425\n",
              "74108  18688039  Entire home/apt           5.0  ...       2.0  2.0  5.220356\n",
              "74110   3534845  Entire home/apt           4.0  ...       1.0  2.0  4.852030\n",
              "\n",
              "[57119 rows x 11 columns]"
            ]
          },
          "metadata": {
            "tags": []
          },
          "execution_count": 47
        }
      ]
    },
    {
      "cell_type": "code",
      "metadata": {
        "colab": {
          "base_uri": "https://localhost:8080/",
          "height": 419
        },
        "id": "kSgUk-pJEYEM",
        "outputId": "72eddf8f-9229-4b30-d2ef-3584e39b1d0d"
      },
      "source": [
        "import pandas as pd\n",
        "import numpy as np\n",
        "df=df.dropna()\n",
        "df\n"
      ],
      "execution_count": 48,
      "outputs": [
        {
          "output_type": "execute_result",
          "data": {
            "text/html": [
              "<div>\n",
              "<style scoped>\n",
              "    .dataframe tbody tr th:only-of-type {\n",
              "        vertical-align: middle;\n",
              "    }\n",
              "\n",
              "    .dataframe tbody tr th {\n",
              "        vertical-align: top;\n",
              "    }\n",
              "\n",
              "    .dataframe thead th {\n",
              "        text-align: right;\n",
              "    }\n",
              "</style>\n",
              "<table border=\"1\" class=\"dataframe\">\n",
              "  <thead>\n",
              "    <tr style=\"text-align: right;\">\n",
              "      <th></th>\n",
              "      <th>id</th>\n",
              "      <th>room_type</th>\n",
              "      <th>accommodates</th>\n",
              "      <th>bathrooms</th>\n",
              "      <th>cancellation_policy</th>\n",
              "      <th>cleaning_fee</th>\n",
              "      <th>instant_bookable</th>\n",
              "      <th>review_scores_rating</th>\n",
              "      <th>bedrooms</th>\n",
              "      <th>beds</th>\n",
              "      <th>log_price</th>\n",
              "    </tr>\n",
              "  </thead>\n",
              "  <tbody>\n",
              "    <tr>\n",
              "      <th>0</th>\n",
              "      <td>6901257</td>\n",
              "      <td>Entire home/apt</td>\n",
              "      <td>3.0</td>\n",
              "      <td>1.0</td>\n",
              "      <td>strict</td>\n",
              "      <td>True</td>\n",
              "      <td>f</td>\n",
              "      <td>100.0</td>\n",
              "      <td>1.0</td>\n",
              "      <td>1.0</td>\n",
              "      <td>5.010635</td>\n",
              "    </tr>\n",
              "    <tr>\n",
              "      <th>1</th>\n",
              "      <td>6304928</td>\n",
              "      <td>Entire home/apt</td>\n",
              "      <td>7.0</td>\n",
              "      <td>1.0</td>\n",
              "      <td>strict</td>\n",
              "      <td>True</td>\n",
              "      <td>t</td>\n",
              "      <td>93.0</td>\n",
              "      <td>3.0</td>\n",
              "      <td>3.0</td>\n",
              "      <td>5.129899</td>\n",
              "    </tr>\n",
              "    <tr>\n",
              "      <th>2</th>\n",
              "      <td>7919400</td>\n",
              "      <td>Entire home/apt</td>\n",
              "      <td>5.0</td>\n",
              "      <td>1.0</td>\n",
              "      <td>moderate</td>\n",
              "      <td>True</td>\n",
              "      <td>t</td>\n",
              "      <td>92.0</td>\n",
              "      <td>1.0</td>\n",
              "      <td>3.0</td>\n",
              "      <td>4.976734</td>\n",
              "    </tr>\n",
              "    <tr>\n",
              "      <th>4</th>\n",
              "      <td>3808709</td>\n",
              "      <td>Entire home/apt</td>\n",
              "      <td>2.0</td>\n",
              "      <td>1.0</td>\n",
              "      <td>moderate</td>\n",
              "      <td>True</td>\n",
              "      <td>t</td>\n",
              "      <td>40.0</td>\n",
              "      <td>0.0</td>\n",
              "      <td>1.0</td>\n",
              "      <td>4.744932</td>\n",
              "    </tr>\n",
              "    <tr>\n",
              "      <th>5</th>\n",
              "      <td>12422935</td>\n",
              "      <td>Private room</td>\n",
              "      <td>2.0</td>\n",
              "      <td>1.0</td>\n",
              "      <td>strict</td>\n",
              "      <td>True</td>\n",
              "      <td>t</td>\n",
              "      <td>100.0</td>\n",
              "      <td>1.0</td>\n",
              "      <td>1.0</td>\n",
              "      <td>4.442651</td>\n",
              "    </tr>\n",
              "    <tr>\n",
              "      <th>...</th>\n",
              "      <td>...</td>\n",
              "      <td>...</td>\n",
              "      <td>...</td>\n",
              "      <td>...</td>\n",
              "      <td>...</td>\n",
              "      <td>...</td>\n",
              "      <td>...</td>\n",
              "      <td>...</td>\n",
              "      <td>...</td>\n",
              "      <td>...</td>\n",
              "      <td>...</td>\n",
              "    </tr>\n",
              "    <tr>\n",
              "      <th>74104</th>\n",
              "      <td>14934112</td>\n",
              "      <td>Entire home/apt</td>\n",
              "      <td>2.0</td>\n",
              "      <td>1.0</td>\n",
              "      <td>strict</td>\n",
              "      <td>True</td>\n",
              "      <td>f</td>\n",
              "      <td>100.0</td>\n",
              "      <td>1.0</td>\n",
              "      <td>1.0</td>\n",
              "      <td>4.356709</td>\n",
              "    </tr>\n",
              "    <tr>\n",
              "      <th>74105</th>\n",
              "      <td>808802</td>\n",
              "      <td>Private room</td>\n",
              "      <td>2.0</td>\n",
              "      <td>1.0</td>\n",
              "      <td>moderate</td>\n",
              "      <td>True</td>\n",
              "      <td>f</td>\n",
              "      <td>91.0</td>\n",
              "      <td>1.0</td>\n",
              "      <td>1.0</td>\n",
              "      <td>4.248495</td>\n",
              "    </tr>\n",
              "    <tr>\n",
              "      <th>74107</th>\n",
              "      <td>13281809</td>\n",
              "      <td>Entire home/apt</td>\n",
              "      <td>4.0</td>\n",
              "      <td>2.0</td>\n",
              "      <td>moderate</td>\n",
              "      <td>True</td>\n",
              "      <td>f</td>\n",
              "      <td>93.0</td>\n",
              "      <td>2.0</td>\n",
              "      <td>4.0</td>\n",
              "      <td>5.043425</td>\n",
              "    </tr>\n",
              "    <tr>\n",
              "      <th>74108</th>\n",
              "      <td>18688039</td>\n",
              "      <td>Entire home/apt</td>\n",
              "      <td>5.0</td>\n",
              "      <td>1.0</td>\n",
              "      <td>moderate</td>\n",
              "      <td>True</td>\n",
              "      <td>t</td>\n",
              "      <td>94.0</td>\n",
              "      <td>2.0</td>\n",
              "      <td>2.0</td>\n",
              "      <td>5.220356</td>\n",
              "    </tr>\n",
              "    <tr>\n",
              "      <th>74110</th>\n",
              "      <td>3534845</td>\n",
              "      <td>Entire home/apt</td>\n",
              "      <td>4.0</td>\n",
              "      <td>1.0</td>\n",
              "      <td>moderate</td>\n",
              "      <td>False</td>\n",
              "      <td>f</td>\n",
              "      <td>96.0</td>\n",
              "      <td>1.0</td>\n",
              "      <td>2.0</td>\n",
              "      <td>4.852030</td>\n",
              "    </tr>\n",
              "  </tbody>\n",
              "</table>\n",
              "<p>57119 rows × 11 columns</p>\n",
              "</div>"
            ],
            "text/plain": [
              "             id        room_type  accommodates  ...  bedrooms beds log_price\n",
              "0       6901257  Entire home/apt           3.0  ...       1.0  1.0  5.010635\n",
              "1       6304928  Entire home/apt           7.0  ...       3.0  3.0  5.129899\n",
              "2       7919400  Entire home/apt           5.0  ...       1.0  3.0  4.976734\n",
              "4       3808709  Entire home/apt           2.0  ...       0.0  1.0  4.744932\n",
              "5      12422935     Private room           2.0  ...       1.0  1.0  4.442651\n",
              "...         ...              ...           ...  ...       ...  ...       ...\n",
              "74104  14934112  Entire home/apt           2.0  ...       1.0  1.0  4.356709\n",
              "74105    808802     Private room           2.0  ...       1.0  1.0  4.248495\n",
              "74107  13281809  Entire home/apt           4.0  ...       2.0  4.0  5.043425\n",
              "74108  18688039  Entire home/apt           5.0  ...       2.0  2.0  5.220356\n",
              "74110   3534845  Entire home/apt           4.0  ...       1.0  2.0  4.852030\n",
              "\n",
              "[57119 rows x 11 columns]"
            ]
          },
          "metadata": {
            "tags": []
          },
          "execution_count": 48
        }
      ]
    },
    {
      "cell_type": "code",
      "metadata": {
        "colab": {
          "base_uri": "https://localhost:8080/",
          "height": 0
        },
        "id": "kmhMIxKeEffP",
        "outputId": "e0cfac9b-7297-454c-c038-579aa4052f63"
      },
      "source": [
        "#checking what all values been filled in each columns\n",
        "df['room_type'].unique()"
      ],
      "execution_count": 50,
      "outputs": [
        {
          "output_type": "execute_result",
          "data": {
            "text/plain": [
              "array(['Entire home/apt', 'Private room', 'Shared room'], dtype=object)"
            ]
          },
          "metadata": {
            "tags": []
          },
          "execution_count": 50
        }
      ]
    },
    {
      "cell_type": "code",
      "metadata": {
        "colab": {
          "base_uri": "https://localhost:8080/",
          "height": 0
        },
        "id": "dLlhGqdVEwMw",
        "outputId": "bd52656d-742e-4753-bc81-b858574bdf53"
      },
      "source": [
        "df['cancellation_policy'].unique()\n"
      ],
      "execution_count": 51,
      "outputs": [
        {
          "output_type": "execute_result",
          "data": {
            "text/plain": [
              "array(['strict', 'moderate', 'flexible'], dtype=object)"
            ]
          },
          "metadata": {
            "tags": []
          },
          "execution_count": 51
        }
      ]
    },
    {
      "cell_type": "code",
      "metadata": {
        "colab": {
          "base_uri": "https://localhost:8080/",
          "height": 0
        },
        "id": "CHiel6rzE0Cj",
        "outputId": "534d8e11-0d0e-4a44-b5fc-012b1acdd62a"
      },
      "source": [
        "df['instant_bookable'].unique()\n",
        "\n"
      ],
      "execution_count": 53,
      "outputs": [
        {
          "output_type": "execute_result",
          "data": {
            "text/plain": [
              "array(['f', 't'], dtype=object)"
            ]
          },
          "metadata": {
            "tags": []
          },
          "execution_count": 53
        }
      ]
    },
    {
      "cell_type": "code",
      "metadata": {
        "colab": {
          "base_uri": "https://localhost:8080/",
          "height": 0
        },
        "id": "kzHWXK-fFPr2",
        "outputId": "98b7fe41-50ea-4ba2-fd69-1881269f9482"
      },
      "source": [
        "df['room_type'].unique()\n"
      ],
      "execution_count": 56,
      "outputs": [
        {
          "output_type": "execute_result",
          "data": {
            "text/plain": [
              "array(['Entire home/apt', 'Private room', 'Shared room'], dtype=object)"
            ]
          },
          "metadata": {
            "tags": []
          },
          "execution_count": 56
        }
      ]
    },
    {
      "cell_type": "code",
      "metadata": {
        "colab": {
          "base_uri": "https://localhost:8080/",
          "height": 0
        },
        "id": "xIi59K__5GH_",
        "outputId": "a3e9d57b-cf21-4492-8c5b-e773b6d296e1"
      },
      "source": [
        "#Checking the Duplicated values \n",
        "df.duplicated().unique()"
      ],
      "execution_count": 20,
      "outputs": [
        {
          "output_type": "execute_result",
          "data": {
            "text/plain": [
              "array([False])"
            ]
          },
          "metadata": {
            "tags": []
          },
          "execution_count": 20
        }
      ]
    },
    {
      "cell_type": "code",
      "metadata": {
        "colab": {
          "base_uri": "https://localhost:8080/",
          "height": 0
        },
        "id": "Op_JWNEt1KaX",
        "outputId": "4713e578-23a3-4d05-c0b6-53c059b43796"
      },
      "source": [
        "df[\"accommodates\"].isnull()"
      ],
      "execution_count": 13,
      "outputs": [
        {
          "output_type": "execute_result",
          "data": {
            "text/plain": [
              "0        False\n",
              "1        False\n",
              "2        False\n",
              "3        False\n",
              "4        False\n",
              "         ...  \n",
              "74106    False\n",
              "74107    False\n",
              "74108    False\n",
              "74109    False\n",
              "74110    False\n",
              "Name: accommodates, Length: 74111, dtype: bool"
            ]
          },
          "metadata": {
            "tags": []
          },
          "execution_count": 13
        }
      ]
    },
    {
      "cell_type": "code",
      "metadata": {
        "colab": {
          "base_uri": "https://localhost:8080/",
          "height": 0
        },
        "id": "B1pCwZtF7C7k",
        "outputId": "3a18219d-79f0-45aa-eb7a-58aff5cc6e43"
      },
      "source": [
        "df.isnull().sum()"
      ],
      "execution_count": 32,
      "outputs": [
        {
          "output_type": "execute_result",
          "data": {
            "text/plain": [
              "id                      0\n",
              "room_type               0\n",
              "accommodates            0\n",
              "bathrooms               0\n",
              "cancellation_policy     0\n",
              "cleaning_fee            0\n",
              "instant_bookable        0\n",
              "review_scores_rating    0\n",
              "bedrooms                0\n",
              "beds                    0\n",
              "log_price               0\n",
              "dtype: int64"
            ]
          },
          "metadata": {
            "tags": []
          },
          "execution_count": 32
        }
      ]
    },
    {
      "cell_type": "code",
      "metadata": {
        "colab": {
          "base_uri": "https://localhost:8080/",
          "height": 0
        },
        "id": "olhXwO0JE-1D",
        "outputId": "43fe793d-0120-452e-e5a0-c708f2b10132"
      },
      "source": [
        "df.isnull().sum().sum()\n"
      ],
      "execution_count": 55,
      "outputs": [
        {
          "output_type": "execute_result",
          "data": {
            "text/plain": [
              "0"
            ]
          },
          "metadata": {
            "tags": []
          },
          "execution_count": 55
        }
      ]
    },
    {
      "cell_type": "markdown",
      "metadata": {
        "id": "IsROhAMP74Z1"
      },
      "source": [
        "## **VISUALISATION**"
      ]
    },
    {
      "cell_type": "code",
      "metadata": {
        "colab": {
          "base_uri": "https://localhost:8080/",
          "height": 266
        },
        "id": "7E-CJr_F76UG",
        "outputId": "f5277398-afbc-47f1-e2ec-8bfa9dbd7cbc"
      },
      "source": [
        "df.corr()"
      ],
      "execution_count": 57,
      "outputs": [
        {
          "output_type": "execute_result",
          "data": {
            "text/html": [
              "<div>\n",
              "<style scoped>\n",
              "    .dataframe tbody tr th:only-of-type {\n",
              "        vertical-align: middle;\n",
              "    }\n",
              "\n",
              "    .dataframe tbody tr th {\n",
              "        vertical-align: top;\n",
              "    }\n",
              "\n",
              "    .dataframe thead th {\n",
              "        text-align: right;\n",
              "    }\n",
              "</style>\n",
              "<table border=\"1\" class=\"dataframe\">\n",
              "  <thead>\n",
              "    <tr style=\"text-align: right;\">\n",
              "      <th></th>\n",
              "      <th>id</th>\n",
              "      <th>accommodates</th>\n",
              "      <th>bathrooms</th>\n",
              "      <th>review_scores_rating</th>\n",
              "      <th>bedrooms</th>\n",
              "      <th>beds</th>\n",
              "      <th>log_price</th>\n",
              "    </tr>\n",
              "  </thead>\n",
              "  <tbody>\n",
              "    <tr>\n",
              "      <th>id</th>\n",
              "      <td>1.000000</td>\n",
              "      <td>-0.003980</td>\n",
              "      <td>-0.003385</td>\n",
              "      <td>0.000310</td>\n",
              "      <td>-0.007372</td>\n",
              "      <td>-0.007964</td>\n",
              "      <td>-0.009962</td>\n",
              "    </tr>\n",
              "    <tr>\n",
              "      <th>accommodates</th>\n",
              "      <td>-0.003980</td>\n",
              "      <td>1.000000</td>\n",
              "      <td>0.497969</td>\n",
              "      <td>-0.018003</td>\n",
              "      <td>0.720489</td>\n",
              "      <td>0.824624</td>\n",
              "      <td>0.587382</td>\n",
              "    </tr>\n",
              "    <tr>\n",
              "      <th>bathrooms</th>\n",
              "      <td>-0.003385</td>\n",
              "      <td>0.497969</td>\n",
              "      <td>1.000000</td>\n",
              "      <td>0.010571</td>\n",
              "      <td>0.574191</td>\n",
              "      <td>0.512780</td>\n",
              "      <td>0.347883</td>\n",
              "    </tr>\n",
              "    <tr>\n",
              "      <th>review_scores_rating</th>\n",
              "      <td>0.000310</td>\n",
              "      <td>-0.018003</td>\n",
              "      <td>0.010571</td>\n",
              "      <td>1.000000</td>\n",
              "      <td>0.010690</td>\n",
              "      <td>-0.027598</td>\n",
              "      <td>0.090510</td>\n",
              "    </tr>\n",
              "    <tr>\n",
              "      <th>bedrooms</th>\n",
              "      <td>-0.007372</td>\n",
              "      <td>0.720489</td>\n",
              "      <td>0.574191</td>\n",
              "      <td>0.010690</td>\n",
              "      <td>1.000000</td>\n",
              "      <td>0.704919</td>\n",
              "      <td>0.489952</td>\n",
              "    </tr>\n",
              "    <tr>\n",
              "      <th>beds</th>\n",
              "      <td>-0.007964</td>\n",
              "      <td>0.824624</td>\n",
              "      <td>0.512780</td>\n",
              "      <td>-0.027598</td>\n",
              "      <td>0.704919</td>\n",
              "      <td>1.000000</td>\n",
              "      <td>0.462310</td>\n",
              "    </tr>\n",
              "    <tr>\n",
              "      <th>log_price</th>\n",
              "      <td>-0.009962</td>\n",
              "      <td>0.587382</td>\n",
              "      <td>0.347883</td>\n",
              "      <td>0.090510</td>\n",
              "      <td>0.489952</td>\n",
              "      <td>0.462310</td>\n",
              "      <td>1.000000</td>\n",
              "    </tr>\n",
              "  </tbody>\n",
              "</table>\n",
              "</div>"
            ],
            "text/plain": [
              "                            id  accommodates  ...      beds  log_price\n",
              "id                    1.000000     -0.003980  ... -0.007964  -0.009962\n",
              "accommodates         -0.003980      1.000000  ...  0.824624   0.587382\n",
              "bathrooms            -0.003385      0.497969  ...  0.512780   0.347883\n",
              "review_scores_rating  0.000310     -0.018003  ... -0.027598   0.090510\n",
              "bedrooms             -0.007372      0.720489  ...  0.704919   0.489952\n",
              "beds                 -0.007964      0.824624  ...  1.000000   0.462310\n",
              "log_price            -0.009962      0.587382  ...  0.462310   1.000000\n",
              "\n",
              "[7 rows x 7 columns]"
            ]
          },
          "metadata": {
            "tags": []
          },
          "execution_count": 57
        }
      ]
    },
    {
      "cell_type": "code",
      "metadata": {
        "colab": {
          "base_uri": "https://localhost:8080/",
          "height": 1369
        },
        "id": "rzZR8WvSFiak",
        "outputId": "1930b16f-b919-4b07-9d5d-df1ebbead302"
      },
      "source": [
        "import seaborn as sns\n",
        "import matplotlib.pyplot as plt\n",
        "sns.heatmap(df.corr(),annot = True,cmap='copper')\n",
        "plt.title('Correlation heat map of data')\n",
        "plt.rcParams['figure.figsize']=(10,20)\n",
        "plt.show()"
      ],
      "execution_count": 88,
      "outputs": [
        {
          "output_type": "display_data",
          "data": {
            "image/png": "[encoded data removed]",
            "text/plain": [
              "<Figure size 1440x1728 with 2 Axes>"
            ]
          },
          "metadata": {
            "tags": [],
            "needs_background": "light"
          }
        }
      ]
    },
    {
      "cell_type": "code",
      "metadata": {
        "colab": {
          "base_uri": "https://localhost:8080/",
          "height": 391
        },
        "id": "qflP-m2_F4K3",
        "outputId": "d383335d-a9fa-466e-8fc8-5290b6ec6b78"
      },
      "source": [
        "plt.figure(figsize=(8,6))\n",
        "plt.scatter(df.room_type,df.beds,color=\"purple\")"
      ],
      "execution_count": 72,
      "outputs": [
        {
          "output_type": "execute_result",
          "data": {
            "text/plain": [
              "<matplotlib.collections.PathCollection at 0x7f73f1477650>"
            ]
          },
          "metadata": {
            "tags": []
          },
          "execution_count": 72
        },
        {
          "output_type": "display_data",
          "data": {
            "image/png": "[encoded data removed]",
            "text/plain": [
              "<Figure size 576x432 with 1 Axes>"
            ]
          },
          "metadata": {
            "tags": [],
            "needs_background": "light"
          }
        }
      ]
    },
    {
      "cell_type": "code",
      "metadata": {
        "colab": {
          "base_uri": "https://localhost:8080/",
          "height": 1000
        },
        "id": "OOd7a7S6Glcb",
        "outputId": "0e9ee892-3d4a-40d1-c33d-5f6e267506c0"
      },
      "source": [
        "sns.boxplot(df.bathrooms, df.room_type)\n",
        "plt.show()"
      ],
      "execution_count": 73,
      "outputs": [
        {
          "output_type": "stream",
          "text": [
            "/usr/local/lib/python3.7/dist-packages/seaborn/_decorators.py:43: FutureWarning: Pass the following variables as keyword args: x, y. From version 0.12, the only valid positional argument will be `data`, and passing other arguments without an explicit keyword will result in an error or misinterpretation.\n",
            "  FutureWarning\n"
          ],
          "name": "stderr"
        },
        {
          "output_type": "display_data",
          "data": {
            "image/png": "[encoded data removed]",
            "text/plain": [
              "<Figure size 2880x1728 with 1 Axes>"
            ]
          },
          "metadata": {
            "tags": [],
            "needs_background": "light"
          }
        }
      ]
    },
    {
      "cell_type": "code",
      "metadata": {
        "colab": {
          "base_uri": "https://localhost:8080/",
          "height": 762
        },
        "id": "LLAhQgAfH3Ky",
        "outputId": "68e38863-f5f1-4e3c-eb06-564cdc2ce0fd"
      },
      "source": [
        "df['room_type'].hist()"
      ],
      "execution_count": 85,
      "outputs": [
        {
          "output_type": "execute_result",
          "data": {
            "text/plain": [
              "<matplotlib.axes._subplots.AxesSubplot at 0x7f73f128e0d0>"
            ]
          },
          "metadata": {
            "tags": []
          },
          "execution_count": 85
        },
        {
          "output_type": "display_data",
          "data": {
            "image/png": "[encoded data removed]",
            "text/plain": [
              "<Figure size 2880x1728 with 1 Axes>"
            ]
          },
          "metadata": {
            "tags": [],
            "needs_background": "light"
          }
        }
      ]
    },
    {
      "cell_type": "code",
      "metadata": {
        "colab": {
          "base_uri": "https://localhost:8080/",
          "height": 1000
        },
        "id": "4Qb_L8uXINGm",
        "outputId": "595feacd-a9c6-4c9e-dce1-f40cff0d8642"
      },
      "source": [
        "df['beds'].hist()"
      ],
      "execution_count": 86,
      "outputs": [
        {
          "output_type": "execute_result",
          "data": {
            "text/plain": [
              "<matplotlib.axes._subplots.AxesSubplot at 0x7f73f11bea90>"
            ]
          },
          "metadata": {
            "tags": []
          },
          "execution_count": 86
        },
        {
          "output_type": "display_data",
          "data": {
            "image/png": "[encoded data removed]",
            "text/plain": [
              "<Figure size 2880x1728 with 1 Axes>"
            ]
          },
          "metadata": {
            "tags": [],
            "needs_background": "light"
          }
        }
      ]
    }
  ]
}