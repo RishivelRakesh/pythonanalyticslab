{
  "nbformat": 4,
  "nbformat_minor": 0,
  "metadata": {
    "kernelspec": {
      "display_name": "Python 3",
      "language": "python",
      "name": "python3"
    },
    "language_info": {
      "codemirror_mode": {
        "name": "ipython",
        "version": 3
      },
      "file_extension": ".py",
      "mimetype": "text/x-python",
      "name": "python",
      "nbconvert_exporter": "python",
      "pygments_lexer": "ipython3",
      "version": "3.6.3"
    },
    "colab": {
      "name": "Data_Cleaning_Linear Regression_Car Sales Data.ipynb",
      "provenance": [],
      "collapsed_sections": []
    }
  },
  "cells": [
    {
      "cell_type": "code",
      "metadata": {
        "id": "sjHTYHmetHBJ"
      },
      "source": [
        "  "
      ],
      "execution_count": null,
      "outputs": []
    },
    {
      "cell_type": "code",
      "metadata": {
        "id": "cjrs_2fpObGE"
      },
      "source": [
        "import numpy as np\n",
        "import pandas as pd\n",
        "import random\n",
        "import matplotlib.pyplot as plt\n",
        "%matplotlib inline"
      ],
      "execution_count": null,
      "outputs": []
    },
    {
      "cell_type": "code",
      "metadata": {
        "id": "lu1blem7QAHb",
        "colab": {
          "base_uri": "https://localhost:8080/"
        },
        "outputId": "4b197f89-fb8a-4644-dd6e-56fe456e555d"
      },
      "source": [
        "from google.colab import drive\n",
        "drive.mount('/content/drive')"
      ],
      "execution_count": null,
      "outputs": [
        {
          "output_type": "stream",
          "text": [
            "Drive already mounted at /content/drive; to attempt to forcibly remount, call drive.mount(\"/content/drive\", force_remount=True).\n"
          ],
          "name": "stdout"
        }
      ]
    },
    {
      "cell_type": "code",
      "metadata": {
        "id": "yyE6qWTiO5pT"
      },
      "source": [
        ""
      ],
      "execution_count": null,
      "outputs": []
    },
    {
      "cell_type": "code",
      "metadata": {
        "id": "J2BeMHekObIU",
        "colab": {
          "base_uri": "https://localhost:8080/",
          "height": 312
        },
        "outputId": "4082733b-f427-4207-c376-bd847730779f"
      },
      "source": [
        "B=pd.read_csv('/content/drive/My Drive/SCS_Online_Workshop/car_sales.csv',index_col=0)\n",
        "B.head()\n"
      ],
      "execution_count": null,
      "outputs": [
        {
          "output_type": "execute_result",
          "data": {
            "text/html": [
              "<div>\n",
              "<style scoped>\n",
              "    .dataframe tbody tr th:only-of-type {\n",
              "        vertical-align: middle;\n",
              "    }\n",
              "\n",
              "    .dataframe tbody tr th {\n",
              "        vertical-align: top;\n",
              "    }\n",
              "\n",
              "    .dataframe thead th {\n",
              "        text-align: right;\n",
              "    }\n",
              "</style>\n",
              "<table border=\"1\" class=\"dataframe\">\n",
              "  <thead>\n",
              "    <tr style=\"text-align: right;\">\n",
              "      <th></th>\n",
              "      <th>Manufacturer</th>\n",
              "      <th>Model</th>\n",
              "      <th>Type</th>\n",
              "      <th>Min.Price</th>\n",
              "      <th>Price</th>\n",
              "      <th>Max.Price</th>\n",
              "      <th>MPG.city</th>\n",
              "      <th>MPG.highway</th>\n",
              "      <th>AirBags</th>\n",
              "      <th>DriveTrain</th>\n",
              "      <th>Cylinders</th>\n",
              "      <th>EngineSize</th>\n",
              "      <th>Horsepower</th>\n",
              "      <th>RPM</th>\n",
              "      <th>Rev.per.mile</th>\n",
              "      <th>Man.trans.avail</th>\n",
              "      <th>Fuel.tank.capacity</th>\n",
              "      <th>Passengers</th>\n",
              "      <th>Length</th>\n",
              "      <th>Wheelbase</th>\n",
              "      <th>Width</th>\n",
              "      <th>Turn.circle</th>\n",
              "      <th>Rear.seat.room</th>\n",
              "      <th>Luggage.room</th>\n",
              "      <th>Weight</th>\n",
              "      <th>Origin</th>\n",
              "      <th>Make</th>\n",
              "    </tr>\n",
              "  </thead>\n",
              "  <tbody>\n",
              "    <tr>\n",
              "      <th>1</th>\n",
              "      <td>Acura</td>\n",
              "      <td>Integra</td>\n",
              "      <td>Small</td>\n",
              "      <td>12.9</td>\n",
              "      <td>15.9</td>\n",
              "      <td>18.8</td>\n",
              "      <td>25</td>\n",
              "      <td>31</td>\n",
              "      <td>None</td>\n",
              "      <td>Front</td>\n",
              "      <td>4</td>\n",
              "      <td>1.8</td>\n",
              "      <td>140</td>\n",
              "      <td>6300</td>\n",
              "      <td>2890</td>\n",
              "      <td>Yes</td>\n",
              "      <td>13.2</td>\n",
              "      <td>5</td>\n",
              "      <td>177</td>\n",
              "      <td>102</td>\n",
              "      <td>68</td>\n",
              "      <td>37</td>\n",
              "      <td>26.5</td>\n",
              "      <td>11.0</td>\n",
              "      <td>2705</td>\n",
              "      <td>non-USA</td>\n",
              "      <td>Acura Integra</td>\n",
              "    </tr>\n",
              "    <tr>\n",
              "      <th>2</th>\n",
              "      <td>Acura</td>\n",
              "      <td>Legend</td>\n",
              "      <td>Midsize</td>\n",
              "      <td>29.2</td>\n",
              "      <td>33.9</td>\n",
              "      <td>38.7</td>\n",
              "      <td>18</td>\n",
              "      <td>25</td>\n",
              "      <td>Driver &amp; Passenger</td>\n",
              "      <td>Front</td>\n",
              "      <td>6</td>\n",
              "      <td>3.2</td>\n",
              "      <td>200</td>\n",
              "      <td>5500</td>\n",
              "      <td>2335</td>\n",
              "      <td>Yes</td>\n",
              "      <td>18.0</td>\n",
              "      <td>5</td>\n",
              "      <td>195</td>\n",
              "      <td>115</td>\n",
              "      <td>71</td>\n",
              "      <td>38</td>\n",
              "      <td>30.0</td>\n",
              "      <td>15.0</td>\n",
              "      <td>3560</td>\n",
              "      <td>non-USA</td>\n",
              "      <td>Acura Legend</td>\n",
              "    </tr>\n",
              "    <tr>\n",
              "      <th>3</th>\n",
              "      <td>Audi</td>\n",
              "      <td>90</td>\n",
              "      <td>Compact</td>\n",
              "      <td>25.9</td>\n",
              "      <td>29.1</td>\n",
              "      <td>32.3</td>\n",
              "      <td>20</td>\n",
              "      <td>26</td>\n",
              "      <td>Driver only</td>\n",
              "      <td>Front</td>\n",
              "      <td>6</td>\n",
              "      <td>2.8</td>\n",
              "      <td>172</td>\n",
              "      <td>5500</td>\n",
              "      <td>2280</td>\n",
              "      <td>Yes</td>\n",
              "      <td>16.9</td>\n",
              "      <td>5</td>\n",
              "      <td>180</td>\n",
              "      <td>102</td>\n",
              "      <td>67</td>\n",
              "      <td>37</td>\n",
              "      <td>28.0</td>\n",
              "      <td>14.0</td>\n",
              "      <td>3375</td>\n",
              "      <td>non-USA</td>\n",
              "      <td>Audi 90</td>\n",
              "    </tr>\n",
              "    <tr>\n",
              "      <th>4</th>\n",
              "      <td>Audi</td>\n",
              "      <td>100</td>\n",
              "      <td>Midsize</td>\n",
              "      <td>30.8</td>\n",
              "      <td>37.7</td>\n",
              "      <td>44.6</td>\n",
              "      <td>19</td>\n",
              "      <td>26</td>\n",
              "      <td>Driver &amp; Passenger</td>\n",
              "      <td>Front</td>\n",
              "      <td>6</td>\n",
              "      <td>2.8</td>\n",
              "      <td>172</td>\n",
              "      <td>5500</td>\n",
              "      <td>2535</td>\n",
              "      <td>Yes</td>\n",
              "      <td>21.1</td>\n",
              "      <td>6</td>\n",
              "      <td>193</td>\n",
              "      <td>106</td>\n",
              "      <td>70</td>\n",
              "      <td>37</td>\n",
              "      <td>31.0</td>\n",
              "      <td>17.0</td>\n",
              "      <td>3405</td>\n",
              "      <td>non-USA</td>\n",
              "      <td>Audi 100</td>\n",
              "    </tr>\n",
              "    <tr>\n",
              "      <th>5</th>\n",
              "      <td>BMW</td>\n",
              "      <td>535i</td>\n",
              "      <td>Midsize</td>\n",
              "      <td>23.7</td>\n",
              "      <td>30.0</td>\n",
              "      <td>36.2</td>\n",
              "      <td>22</td>\n",
              "      <td>30</td>\n",
              "      <td>Driver only</td>\n",
              "      <td>Rear</td>\n",
              "      <td>4</td>\n",
              "      <td>3.5</td>\n",
              "      <td>208</td>\n",
              "      <td>5700</td>\n",
              "      <td>2545</td>\n",
              "      <td>Yes</td>\n",
              "      <td>21.1</td>\n",
              "      <td>4</td>\n",
              "      <td>186</td>\n",
              "      <td>109</td>\n",
              "      <td>69</td>\n",
              "      <td>39</td>\n",
              "      <td>27.0</td>\n",
              "      <td>13.0</td>\n",
              "      <td>3640</td>\n",
              "      <td>non-USA</td>\n",
              "      <td>BMW 535i</td>\n",
              "    </tr>\n",
              "  </tbody>\n",
              "</table>\n",
              "</div>"
            ],
            "text/plain": [
              "  Manufacturer    Model     Type  ...  Weight   Origin           Make\n",
              "1        Acura  Integra    Small  ...    2705  non-USA  Acura Integra\n",
              "2        Acura   Legend  Midsize  ...    3560  non-USA   Acura Legend\n",
              "3         Audi       90  Compact  ...    3375  non-USA        Audi 90\n",
              "4         Audi      100  Midsize  ...    3405  non-USA       Audi 100\n",
              "5          BMW     535i  Midsize  ...    3640  non-USA       BMW 535i\n",
              "\n",
              "[5 rows x 27 columns]"
            ]
          },
          "metadata": {
            "tags": []
          },
          "execution_count": 40
        }
      ]
    },
    {
      "cell_type": "code",
      "metadata": {
        "id": "KA6voP_0w-ZM",
        "colab": {
          "base_uri": "https://localhost:8080/"
        },
        "outputId": "9d8d6a1e-0935-43f7-e584-4432c7b20599"
      },
      "source": [
        "B.info()"
      ],
      "execution_count": null,
      "outputs": [
        {
          "output_type": "stream",
          "text": [
            "<class 'pandas.core.frame.DataFrame'>\n",
            "Int64Index: 93 entries, 1 to 93\n",
            "Data columns (total 27 columns):\n",
            " #   Column              Non-Null Count  Dtype  \n",
            "---  ------              --------------  -----  \n",
            " 0   Manufacturer        93 non-null     object \n",
            " 1   Model               93 non-null     object \n",
            " 2   Type                93 non-null     object \n",
            " 3   Min.Price           93 non-null     float64\n",
            " 4   Price               93 non-null     float64\n",
            " 5   Max.Price           93 non-null     float64\n",
            " 6   MPG.city            93 non-null     int64  \n",
            " 7   MPG.highway         93 non-null     int64  \n",
            " 8   AirBags             93 non-null     object \n",
            " 9   DriveTrain          93 non-null     object \n",
            " 10  Cylinders           93 non-null     object \n",
            " 11  EngineSize          93 non-null     float64\n",
            " 12  Horsepower          93 non-null     int64  \n",
            " 13  RPM                 93 non-null     int64  \n",
            " 14  Rev.per.mile        93 non-null     int64  \n",
            " 15  Man.trans.avail     93 non-null     object \n",
            " 16  Fuel.tank.capacity  93 non-null     float64\n",
            " 17  Passengers          93 non-null     int64  \n",
            " 18  Length              93 non-null     int64  \n",
            " 19  Wheelbase           93 non-null     int64  \n",
            " 20  Width               93 non-null     int64  \n",
            " 21  Turn.circle         93 non-null     int64  \n",
            " 22  Rear.seat.room      91 non-null     float64\n",
            " 23  Luggage.room        82 non-null     float64\n",
            " 24  Weight              93 non-null     int64  \n",
            " 25  Origin              93 non-null     object \n",
            " 26  Make                93 non-null     object \n",
            "dtypes: float64(7), int64(11), object(9)\n",
            "memory usage: 20.3+ KB\n"
          ],
          "name": "stdout"
        }
      ]
    },
    {
      "cell_type": "code",
      "metadata": {
        "id": "xFbDX2umbzTZ",
        "colab": {
          "base_uri": "https://localhost:8080/",
          "height": 615
        },
        "outputId": "b274c44d-0cef-4e10-b8e1-72341b4ffd4f"
      },
      "source": [
        "X=pd.DataFrame(B.drop(['Manufacturer','Model','Type','Min.Price','Max.Price','Cylinders','Make'],axis=1))\n",
        "X"
      ],
      "execution_count": null,
      "outputs": [
        {
          "output_type": "execute_result",
          "data": {
            "text/html": [
              "<div>\n",
              "<style scoped>\n",
              "    .dataframe tbody tr th:only-of-type {\n",
              "        vertical-align: middle;\n",
              "    }\n",
              "\n",
              "    .dataframe tbody tr th {\n",
              "        vertical-align: top;\n",
              "    }\n",
              "\n",
              "    .dataframe thead th {\n",
              "        text-align: right;\n",
              "    }\n",
              "</style>\n",
              "<table border=\"1\" class=\"dataframe\">\n",
              "  <thead>\n",
              "    <tr style=\"text-align: right;\">\n",
              "      <th></th>\n",
              "      <th>Price</th>\n",
              "      <th>MPG.city</th>\n",
              "      <th>MPG.highway</th>\n",
              "      <th>AirBags</th>\n",
              "      <th>DriveTrain</th>\n",
              "      <th>EngineSize</th>\n",
              "      <th>Horsepower</th>\n",
              "      <th>RPM</th>\n",
              "      <th>Rev.per.mile</th>\n",
              "      <th>Man.trans.avail</th>\n",
              "      <th>Fuel.tank.capacity</th>\n",
              "      <th>Passengers</th>\n",
              "      <th>Length</th>\n",
              "      <th>Wheelbase</th>\n",
              "      <th>Width</th>\n",
              "      <th>Turn.circle</th>\n",
              "      <th>Rear.seat.room</th>\n",
              "      <th>Luggage.room</th>\n",
              "      <th>Weight</th>\n",
              "      <th>Origin</th>\n",
              "    </tr>\n",
              "  </thead>\n",
              "  <tbody>\n",
              "    <tr>\n",
              "      <th>1</th>\n",
              "      <td>15.9</td>\n",
              "      <td>25</td>\n",
              "      <td>31</td>\n",
              "      <td>None</td>\n",
              "      <td>Front</td>\n",
              "      <td>1.8</td>\n",
              "      <td>140</td>\n",
              "      <td>6300</td>\n",
              "      <td>2890</td>\n",
              "      <td>Yes</td>\n",
              "      <td>13.2</td>\n",
              "      <td>5</td>\n",
              "      <td>177</td>\n",
              "      <td>102</td>\n",
              "      <td>68</td>\n",
              "      <td>37</td>\n",
              "      <td>26.5</td>\n",
              "      <td>11.0</td>\n",
              "      <td>2705</td>\n",
              "      <td>non-USA</td>\n",
              "    </tr>\n",
              "    <tr>\n",
              "      <th>2</th>\n",
              "      <td>33.9</td>\n",
              "      <td>18</td>\n",
              "      <td>25</td>\n",
              "      <td>Driver &amp; Passenger</td>\n",
              "      <td>Front</td>\n",
              "      <td>3.2</td>\n",
              "      <td>200</td>\n",
              "      <td>5500</td>\n",
              "      <td>2335</td>\n",
              "      <td>Yes</td>\n",
              "      <td>18.0</td>\n",
              "      <td>5</td>\n",
              "      <td>195</td>\n",
              "      <td>115</td>\n",
              "      <td>71</td>\n",
              "      <td>38</td>\n",
              "      <td>30.0</td>\n",
              "      <td>15.0</td>\n",
              "      <td>3560</td>\n",
              "      <td>non-USA</td>\n",
              "    </tr>\n",
              "    <tr>\n",
              "      <th>3</th>\n",
              "      <td>29.1</td>\n",
              "      <td>20</td>\n",
              "      <td>26</td>\n",
              "      <td>Driver only</td>\n",
              "      <td>Front</td>\n",
              "      <td>2.8</td>\n",
              "      <td>172</td>\n",
              "      <td>5500</td>\n",
              "      <td>2280</td>\n",
              "      <td>Yes</td>\n",
              "      <td>16.9</td>\n",
              "      <td>5</td>\n",
              "      <td>180</td>\n",
              "      <td>102</td>\n",
              "      <td>67</td>\n",
              "      <td>37</td>\n",
              "      <td>28.0</td>\n",
              "      <td>14.0</td>\n",
              "      <td>3375</td>\n",
              "      <td>non-USA</td>\n",
              "    </tr>\n",
              "    <tr>\n",
              "      <th>4</th>\n",
              "      <td>37.7</td>\n",
              "      <td>19</td>\n",
              "      <td>26</td>\n",
              "      <td>Driver &amp; Passenger</td>\n",
              "      <td>Front</td>\n",
              "      <td>2.8</td>\n",
              "      <td>172</td>\n",
              "      <td>5500</td>\n",
              "      <td>2535</td>\n",
              "      <td>Yes</td>\n",
              "      <td>21.1</td>\n",
              "      <td>6</td>\n",
              "      <td>193</td>\n",
              "      <td>106</td>\n",
              "      <td>70</td>\n",
              "      <td>37</td>\n",
              "      <td>31.0</td>\n",
              "      <td>17.0</td>\n",
              "      <td>3405</td>\n",
              "      <td>non-USA</td>\n",
              "    </tr>\n",
              "    <tr>\n",
              "      <th>5</th>\n",
              "      <td>30.0</td>\n",
              "      <td>22</td>\n",
              "      <td>30</td>\n",
              "      <td>Driver only</td>\n",
              "      <td>Rear</td>\n",
              "      <td>3.5</td>\n",
              "      <td>208</td>\n",
              "      <td>5700</td>\n",
              "      <td>2545</td>\n",
              "      <td>Yes</td>\n",
              "      <td>21.1</td>\n",
              "      <td>4</td>\n",
              "      <td>186</td>\n",
              "      <td>109</td>\n",
              "      <td>69</td>\n",
              "      <td>39</td>\n",
              "      <td>27.0</td>\n",
              "      <td>13.0</td>\n",
              "      <td>3640</td>\n",
              "      <td>non-USA</td>\n",
              "    </tr>\n",
              "    <tr>\n",
              "      <th>...</th>\n",
              "      <td>...</td>\n",
              "      <td>...</td>\n",
              "      <td>...</td>\n",
              "      <td>...</td>\n",
              "      <td>...</td>\n",
              "      <td>...</td>\n",
              "      <td>...</td>\n",
              "      <td>...</td>\n",
              "      <td>...</td>\n",
              "      <td>...</td>\n",
              "      <td>...</td>\n",
              "      <td>...</td>\n",
              "      <td>...</td>\n",
              "      <td>...</td>\n",
              "      <td>...</td>\n",
              "      <td>...</td>\n",
              "      <td>...</td>\n",
              "      <td>...</td>\n",
              "      <td>...</td>\n",
              "      <td>...</td>\n",
              "    </tr>\n",
              "    <tr>\n",
              "      <th>89</th>\n",
              "      <td>19.7</td>\n",
              "      <td>17</td>\n",
              "      <td>21</td>\n",
              "      <td>None</td>\n",
              "      <td>Front</td>\n",
              "      <td>2.5</td>\n",
              "      <td>109</td>\n",
              "      <td>4500</td>\n",
              "      <td>2915</td>\n",
              "      <td>Yes</td>\n",
              "      <td>21.1</td>\n",
              "      <td>7</td>\n",
              "      <td>187</td>\n",
              "      <td>115</td>\n",
              "      <td>72</td>\n",
              "      <td>38</td>\n",
              "      <td>34.0</td>\n",
              "      <td>NaN</td>\n",
              "      <td>3960</td>\n",
              "      <td>non-USA</td>\n",
              "    </tr>\n",
              "    <tr>\n",
              "      <th>90</th>\n",
              "      <td>20.0</td>\n",
              "      <td>21</td>\n",
              "      <td>30</td>\n",
              "      <td>None</td>\n",
              "      <td>Front</td>\n",
              "      <td>2.0</td>\n",
              "      <td>134</td>\n",
              "      <td>5800</td>\n",
              "      <td>2685</td>\n",
              "      <td>Yes</td>\n",
              "      <td>18.5</td>\n",
              "      <td>5</td>\n",
              "      <td>180</td>\n",
              "      <td>103</td>\n",
              "      <td>67</td>\n",
              "      <td>35</td>\n",
              "      <td>31.5</td>\n",
              "      <td>14.0</td>\n",
              "      <td>2985</td>\n",
              "      <td>non-USA</td>\n",
              "    </tr>\n",
              "    <tr>\n",
              "      <th>91</th>\n",
              "      <td>23.3</td>\n",
              "      <td>18</td>\n",
              "      <td>25</td>\n",
              "      <td>None</td>\n",
              "      <td>Front</td>\n",
              "      <td>2.8</td>\n",
              "      <td>178</td>\n",
              "      <td>5800</td>\n",
              "      <td>2385</td>\n",
              "      <td>Yes</td>\n",
              "      <td>18.5</td>\n",
              "      <td>4</td>\n",
              "      <td>159</td>\n",
              "      <td>97</td>\n",
              "      <td>66</td>\n",
              "      <td>36</td>\n",
              "      <td>26.0</td>\n",
              "      <td>15.0</td>\n",
              "      <td>2810</td>\n",
              "      <td>non-USA</td>\n",
              "    </tr>\n",
              "    <tr>\n",
              "      <th>92</th>\n",
              "      <td>22.7</td>\n",
              "      <td>21</td>\n",
              "      <td>28</td>\n",
              "      <td>Driver only</td>\n",
              "      <td>Rear</td>\n",
              "      <td>2.3</td>\n",
              "      <td>114</td>\n",
              "      <td>5400</td>\n",
              "      <td>2215</td>\n",
              "      <td>Yes</td>\n",
              "      <td>15.8</td>\n",
              "      <td>5</td>\n",
              "      <td>190</td>\n",
              "      <td>104</td>\n",
              "      <td>67</td>\n",
              "      <td>37</td>\n",
              "      <td>29.5</td>\n",
              "      <td>14.0</td>\n",
              "      <td>2985</td>\n",
              "      <td>non-USA</td>\n",
              "    </tr>\n",
              "    <tr>\n",
              "      <th>93</th>\n",
              "      <td>26.7</td>\n",
              "      <td>20</td>\n",
              "      <td>28</td>\n",
              "      <td>Driver &amp; Passenger</td>\n",
              "      <td>Front</td>\n",
              "      <td>2.4</td>\n",
              "      <td>168</td>\n",
              "      <td>6200</td>\n",
              "      <td>2310</td>\n",
              "      <td>Yes</td>\n",
              "      <td>19.3</td>\n",
              "      <td>5</td>\n",
              "      <td>184</td>\n",
              "      <td>105</td>\n",
              "      <td>69</td>\n",
              "      <td>38</td>\n",
              "      <td>30.0</td>\n",
              "      <td>15.0</td>\n",
              "      <td>3245</td>\n",
              "      <td>non-USA</td>\n",
              "    </tr>\n",
              "  </tbody>\n",
              "</table>\n",
              "<p>93 rows × 20 columns</p>\n",
              "</div>"
            ],
            "text/plain": [
              "    Price  MPG.city  MPG.highway  ... Luggage.room Weight   Origin\n",
              "1    15.9        25           31  ...         11.0   2705  non-USA\n",
              "2    33.9        18           25  ...         15.0   3560  non-USA\n",
              "3    29.1        20           26  ...         14.0   3375  non-USA\n",
              "4    37.7        19           26  ...         17.0   3405  non-USA\n",
              "5    30.0        22           30  ...         13.0   3640  non-USA\n",
              "..    ...       ...          ...  ...          ...    ...      ...\n",
              "89   19.7        17           21  ...          NaN   3960  non-USA\n",
              "90   20.0        21           30  ...         14.0   2985  non-USA\n",
              "91   23.3        18           25  ...         15.0   2810  non-USA\n",
              "92   22.7        21           28  ...         14.0   2985  non-USA\n",
              "93   26.7        20           28  ...         15.0   3245  non-USA\n",
              "\n",
              "[93 rows x 20 columns]"
            ]
          },
          "metadata": {
            "tags": []
          },
          "execution_count": 42
        }
      ]
    },
    {
      "cell_type": "code",
      "metadata": {
        "id": "lec0eeOddGYy",
        "colab": {
          "base_uri": "https://localhost:8080/"
        },
        "outputId": "daec97f5-8442-4bf5-a912-b5757c47ec86"
      },
      "source": [
        "X.info()"
      ],
      "execution_count": null,
      "outputs": [
        {
          "output_type": "stream",
          "text": [
            "<class 'pandas.core.frame.DataFrame'>\n",
            "Int64Index: 93 entries, 1 to 93\n",
            "Data columns (total 20 columns):\n",
            " #   Column              Non-Null Count  Dtype  \n",
            "---  ------              --------------  -----  \n",
            " 0   Price               93 non-null     float64\n",
            " 1   MPG.city            93 non-null     int64  \n",
            " 2   MPG.highway         93 non-null     int64  \n",
            " 3   AirBags             93 non-null     object \n",
            " 4   DriveTrain          93 non-null     object \n",
            " 5   EngineSize          93 non-null     float64\n",
            " 6   Horsepower          93 non-null     int64  \n",
            " 7   RPM                 93 non-null     int64  \n",
            " 8   Rev.per.mile        93 non-null     int64  \n",
            " 9   Man.trans.avail     93 non-null     object \n",
            " 10  Fuel.tank.capacity  93 non-null     float64\n",
            " 11  Passengers          93 non-null     int64  \n",
            " 12  Length              93 non-null     int64  \n",
            " 13  Wheelbase           93 non-null     int64  \n",
            " 14  Width               93 non-null     int64  \n",
            " 15  Turn.circle         93 non-null     int64  \n",
            " 16  Rear.seat.room      91 non-null     float64\n",
            " 17  Luggage.room        82 non-null     float64\n",
            " 18  Weight              93 non-null     int64  \n",
            " 19  Origin              93 non-null     object \n",
            "dtypes: float64(5), int64(11), object(4)\n",
            "memory usage: 15.3+ KB\n"
          ],
          "name": "stdout"
        }
      ]
    },
    {
      "cell_type": "code",
      "metadata": {
        "id": "lqhQcsSMFqOT",
        "colab": {
          "base_uri": "https://localhost:8080/"
        },
        "outputId": "13d2a03c-13bb-42f7-c87f-0970e9e32d22"
      },
      "source": [
        "X_mta=X['Man.trans.avail'].value_counts()\n",
        "X_mta"
      ],
      "execution_count": null,
      "outputs": [
        {
          "output_type": "execute_result",
          "data": {
            "text/plain": [
              "Yes    61\n",
              "No     32\n",
              "Name: Man.trans.avail, dtype: int64"
            ]
          },
          "metadata": {
            "tags": []
          },
          "execution_count": 44
        }
      ]
    },
    {
      "cell_type": "code",
      "metadata": {
        "colab": {
          "base_uri": "https://localhost:8080/"
        },
        "id": "3b3vhCJEXiO4",
        "outputId": "c9da7157-22ee-461f-f852-c64b0e2f6861"
      },
      "source": [
        "type(X_mta)"
      ],
      "execution_count": null,
      "outputs": [
        {
          "output_type": "execute_result",
          "data": {
            "text/plain": [
              "pandas.core.series.Series"
            ]
          },
          "metadata": {
            "tags": []
          },
          "execution_count": 45
        }
      ]
    },
    {
      "cell_type": "code",
      "metadata": {
        "id": "3xpYQOueFe7N"
      },
      "source": [
        "X['Man.trans.avail']=X['Man.trans.avail'].replace({'Yes':0,'No':1})\n"
      ],
      "execution_count": null,
      "outputs": []
    },
    {
      "cell_type": "code",
      "metadata": {
        "id": "vN6QjlqMHCuf",
        "colab": {
          "base_uri": "https://localhost:8080/",
          "height": 608
        },
        "outputId": "aced1512-2188-4bad-894d-90a60b351f32"
      },
      "source": [
        "X"
      ],
      "execution_count": null,
      "outputs": [
        {
          "output_type": "execute_result",
          "data": {
            "text/html": [
              "<div>\n",
              "<style scoped>\n",
              "    .dataframe tbody tr th:only-of-type {\n",
              "        vertical-align: middle;\n",
              "    }\n",
              "\n",
              "    .dataframe tbody tr th {\n",
              "        vertical-align: top;\n",
              "    }\n",
              "\n",
              "    .dataframe thead th {\n",
              "        text-align: right;\n",
              "    }\n",
              "</style>\n",
              "<table border=\"1\" class=\"dataframe\">\n",
              "  <thead>\n",
              "    <tr style=\"text-align: right;\">\n",
              "      <th></th>\n",
              "      <th>Price</th>\n",
              "      <th>MPG.city</th>\n",
              "      <th>MPG.highway</th>\n",
              "      <th>AirBags</th>\n",
              "      <th>DriveTrain</th>\n",
              "      <th>EngineSize</th>\n",
              "      <th>Horsepower</th>\n",
              "      <th>RPM</th>\n",
              "      <th>Rev.per.mile</th>\n",
              "      <th>Man.trans.avail</th>\n",
              "      <th>Fuel.tank.capacity</th>\n",
              "      <th>Passengers</th>\n",
              "      <th>Length</th>\n",
              "      <th>Wheelbase</th>\n",
              "      <th>Width</th>\n",
              "      <th>Turn.circle</th>\n",
              "      <th>Rear.seat.room</th>\n",
              "      <th>Luggage.room</th>\n",
              "      <th>Weight</th>\n",
              "      <th>Origin</th>\n",
              "    </tr>\n",
              "  </thead>\n",
              "  <tbody>\n",
              "    <tr>\n",
              "      <th>1</th>\n",
              "      <td>15.9</td>\n",
              "      <td>25</td>\n",
              "      <td>31</td>\n",
              "      <td>None</td>\n",
              "      <td>Front</td>\n",
              "      <td>1.8</td>\n",
              "      <td>140</td>\n",
              "      <td>6300</td>\n",
              "      <td>2890</td>\n",
              "      <td>0</td>\n",
              "      <td>13.2</td>\n",
              "      <td>5</td>\n",
              "      <td>177</td>\n",
              "      <td>102</td>\n",
              "      <td>68</td>\n",
              "      <td>37</td>\n",
              "      <td>26.5</td>\n",
              "      <td>11.0</td>\n",
              "      <td>2705</td>\n",
              "      <td>non-USA</td>\n",
              "    </tr>\n",
              "    <tr>\n",
              "      <th>2</th>\n",
              "      <td>33.9</td>\n",
              "      <td>18</td>\n",
              "      <td>25</td>\n",
              "      <td>Driver &amp; Passenger</td>\n",
              "      <td>Front</td>\n",
              "      <td>3.2</td>\n",
              "      <td>200</td>\n",
              "      <td>5500</td>\n",
              "      <td>2335</td>\n",
              "      <td>0</td>\n",
              "      <td>18.0</td>\n",
              "      <td>5</td>\n",
              "      <td>195</td>\n",
              "      <td>115</td>\n",
              "      <td>71</td>\n",
              "      <td>38</td>\n",
              "      <td>30.0</td>\n",
              "      <td>15.0</td>\n",
              "      <td>3560</td>\n",
              "      <td>non-USA</td>\n",
              "    </tr>\n",
              "    <tr>\n",
              "      <th>3</th>\n",
              "      <td>29.1</td>\n",
              "      <td>20</td>\n",
              "      <td>26</td>\n",
              "      <td>Driver only</td>\n",
              "      <td>Front</td>\n",
              "      <td>2.8</td>\n",
              "      <td>172</td>\n",
              "      <td>5500</td>\n",
              "      <td>2280</td>\n",
              "      <td>0</td>\n",
              "      <td>16.9</td>\n",
              "      <td>5</td>\n",
              "      <td>180</td>\n",
              "      <td>102</td>\n",
              "      <td>67</td>\n",
              "      <td>37</td>\n",
              "      <td>28.0</td>\n",
              "      <td>14.0</td>\n",
              "      <td>3375</td>\n",
              "      <td>non-USA</td>\n",
              "    </tr>\n",
              "    <tr>\n",
              "      <th>4</th>\n",
              "      <td>37.7</td>\n",
              "      <td>19</td>\n",
              "      <td>26</td>\n",
              "      <td>Driver &amp; Passenger</td>\n",
              "      <td>Front</td>\n",
              "      <td>2.8</td>\n",
              "      <td>172</td>\n",
              "      <td>5500</td>\n",
              "      <td>2535</td>\n",
              "      <td>0</td>\n",
              "      <td>21.1</td>\n",
              "      <td>6</td>\n",
              "      <td>193</td>\n",
              "      <td>106</td>\n",
              "      <td>70</td>\n",
              "      <td>37</td>\n",
              "      <td>31.0</td>\n",
              "      <td>17.0</td>\n",
              "      <td>3405</td>\n",
              "      <td>non-USA</td>\n",
              "    </tr>\n",
              "    <tr>\n",
              "      <th>5</th>\n",
              "      <td>30.0</td>\n",
              "      <td>22</td>\n",
              "      <td>30</td>\n",
              "      <td>Driver only</td>\n",
              "      <td>Rear</td>\n",
              "      <td>3.5</td>\n",
              "      <td>208</td>\n",
              "      <td>5700</td>\n",
              "      <td>2545</td>\n",
              "      <td>0</td>\n",
              "      <td>21.1</td>\n",
              "      <td>4</td>\n",
              "      <td>186</td>\n",
              "      <td>109</td>\n",
              "      <td>69</td>\n",
              "      <td>39</td>\n",
              "      <td>27.0</td>\n",
              "      <td>13.0</td>\n",
              "      <td>3640</td>\n",
              "      <td>non-USA</td>\n",
              "    </tr>\n",
              "    <tr>\n",
              "      <th>...</th>\n",
              "      <td>...</td>\n",
              "      <td>...</td>\n",
              "      <td>...</td>\n",
              "      <td>...</td>\n",
              "      <td>...</td>\n",
              "      <td>...</td>\n",
              "      <td>...</td>\n",
              "      <td>...</td>\n",
              "      <td>...</td>\n",
              "      <td>...</td>\n",
              "      <td>...</td>\n",
              "      <td>...</td>\n",
              "      <td>...</td>\n",
              "      <td>...</td>\n",
              "      <td>...</td>\n",
              "      <td>...</td>\n",
              "      <td>...</td>\n",
              "      <td>...</td>\n",
              "      <td>...</td>\n",
              "      <td>...</td>\n",
              "    </tr>\n",
              "    <tr>\n",
              "      <th>89</th>\n",
              "      <td>19.7</td>\n",
              "      <td>17</td>\n",
              "      <td>21</td>\n",
              "      <td>None</td>\n",
              "      <td>Front</td>\n",
              "      <td>2.5</td>\n",
              "      <td>109</td>\n",
              "      <td>4500</td>\n",
              "      <td>2915</td>\n",
              "      <td>0</td>\n",
              "      <td>21.1</td>\n",
              "      <td>7</td>\n",
              "      <td>187</td>\n",
              "      <td>115</td>\n",
              "      <td>72</td>\n",
              "      <td>38</td>\n",
              "      <td>34.0</td>\n",
              "      <td>NaN</td>\n",
              "      <td>3960</td>\n",
              "      <td>non-USA</td>\n",
              "    </tr>\n",
              "    <tr>\n",
              "      <th>90</th>\n",
              "      <td>20.0</td>\n",
              "      <td>21</td>\n",
              "      <td>30</td>\n",
              "      <td>None</td>\n",
              "      <td>Front</td>\n",
              "      <td>2.0</td>\n",
              "      <td>134</td>\n",
              "      <td>5800</td>\n",
              "      <td>2685</td>\n",
              "      <td>0</td>\n",
              "      <td>18.5</td>\n",
              "      <td>5</td>\n",
              "      <td>180</td>\n",
              "      <td>103</td>\n",
              "      <td>67</td>\n",
              "      <td>35</td>\n",
              "      <td>31.5</td>\n",
              "      <td>14.0</td>\n",
              "      <td>2985</td>\n",
              "      <td>non-USA</td>\n",
              "    </tr>\n",
              "    <tr>\n",
              "      <th>91</th>\n",
              "      <td>23.3</td>\n",
              "      <td>18</td>\n",
              "      <td>25</td>\n",
              "      <td>None</td>\n",
              "      <td>Front</td>\n",
              "      <td>2.8</td>\n",
              "      <td>178</td>\n",
              "      <td>5800</td>\n",
              "      <td>2385</td>\n",
              "      <td>0</td>\n",
              "      <td>18.5</td>\n",
              "      <td>4</td>\n",
              "      <td>159</td>\n",
              "      <td>97</td>\n",
              "      <td>66</td>\n",
              "      <td>36</td>\n",
              "      <td>26.0</td>\n",
              "      <td>15.0</td>\n",
              "      <td>2810</td>\n",
              "      <td>non-USA</td>\n",
              "    </tr>\n",
              "    <tr>\n",
              "      <th>92</th>\n",
              "      <td>22.7</td>\n",
              "      <td>21</td>\n",
              "      <td>28</td>\n",
              "      <td>Driver only</td>\n",
              "      <td>Rear</td>\n",
              "      <td>2.3</td>\n",
              "      <td>114</td>\n",
              "      <td>5400</td>\n",
              "      <td>2215</td>\n",
              "      <td>0</td>\n",
              "      <td>15.8</td>\n",
              "      <td>5</td>\n",
              "      <td>190</td>\n",
              "      <td>104</td>\n",
              "      <td>67</td>\n",
              "      <td>37</td>\n",
              "      <td>29.5</td>\n",
              "      <td>14.0</td>\n",
              "      <td>2985</td>\n",
              "      <td>non-USA</td>\n",
              "    </tr>\n",
              "    <tr>\n",
              "      <th>93</th>\n",
              "      <td>26.7</td>\n",
              "      <td>20</td>\n",
              "      <td>28</td>\n",
              "      <td>Driver &amp; Passenger</td>\n",
              "      <td>Front</td>\n",
              "      <td>2.4</td>\n",
              "      <td>168</td>\n",
              "      <td>6200</td>\n",
              "      <td>2310</td>\n",
              "      <td>0</td>\n",
              "      <td>19.3</td>\n",
              "      <td>5</td>\n",
              "      <td>184</td>\n",
              "      <td>105</td>\n",
              "      <td>69</td>\n",
              "      <td>38</td>\n",
              "      <td>30.0</td>\n",
              "      <td>15.0</td>\n",
              "      <td>3245</td>\n",
              "      <td>non-USA</td>\n",
              "    </tr>\n",
              "  </tbody>\n",
              "</table>\n",
              "<p>93 rows × 20 columns</p>\n",
              "</div>"
            ],
            "text/plain": [
              "    Price  MPG.city  MPG.highway  ... Luggage.room Weight   Origin\n",
              "1    15.9        25           31  ...         11.0   2705  non-USA\n",
              "2    33.9        18           25  ...         15.0   3560  non-USA\n",
              "3    29.1        20           26  ...         14.0   3375  non-USA\n",
              "4    37.7        19           26  ...         17.0   3405  non-USA\n",
              "5    30.0        22           30  ...         13.0   3640  non-USA\n",
              "..    ...       ...          ...  ...          ...    ...      ...\n",
              "89   19.7        17           21  ...          NaN   3960  non-USA\n",
              "90   20.0        21           30  ...         14.0   2985  non-USA\n",
              "91   23.3        18           25  ...         15.0   2810  non-USA\n",
              "92   22.7        21           28  ...         14.0   2985  non-USA\n",
              "93   26.7        20           28  ...         15.0   3245  non-USA\n",
              "\n",
              "[93 rows x 20 columns]"
            ]
          },
          "metadata": {
            "tags": []
          },
          "execution_count": 21
        }
      ]
    },
    {
      "cell_type": "code",
      "metadata": {
        "id": "Y90OZWJgHMKJ",
        "colab": {
          "base_uri": "https://localhost:8080/"
        },
        "outputId": "ef105fa3-6d3f-49e3-eb51-c907c9217dfd"
      },
      "source": [
        "np.corrcoef(X['Price'],X['Man.trans.avail'])"
      ],
      "execution_count": null,
      "outputs": [
        {
          "output_type": "execute_result",
          "data": {
            "text/plain": [
              "array([[1.        , 0.32650443],\n",
              "       [0.32650443, 1.        ]])"
            ]
          },
          "metadata": {
            "tags": []
          },
          "execution_count": 10
        }
      ]
    },
    {
      "cell_type": "code",
      "metadata": {
        "id": "SbKA5Z8kHzZc",
        "colab": {
          "base_uri": "https://localhost:8080/"
        },
        "outputId": "3197365e-d6a4-454c-e7e2-cf06b179a025"
      },
      "source": [
        "X_O=X['Origin'].value_counts()\n",
        "X_O\n"
      ],
      "execution_count": null,
      "outputs": [
        {
          "output_type": "execute_result",
          "data": {
            "text/plain": [
              "USA        48\n",
              "non-USA    45\n",
              "Name: Origin, dtype: int64"
            ]
          },
          "metadata": {
            "tags": []
          },
          "execution_count": 11
        }
      ]
    },
    {
      "cell_type": "code",
      "metadata": {
        "id": "QCNEE5BJHaev",
        "colab": {
          "base_uri": "https://localhost:8080/"
        },
        "outputId": "744075ec-cb10-4c69-d352-86e8856b8428"
      },
      "source": [
        "X['Origin']=X['Origin'].replace({'USA':0,'non-USA':1})\n",
        "X.info()"
      ],
      "execution_count": null,
      "outputs": [
        {
          "output_type": "stream",
          "text": [
            "<class 'pandas.core.frame.DataFrame'>\n",
            "Int64Index: 93 entries, 1 to 93\n",
            "Data columns (total 20 columns):\n",
            " #   Column              Non-Null Count  Dtype  \n",
            "---  ------              --------------  -----  \n",
            " 0   Price               93 non-null     float64\n",
            " 1   MPG.city            93 non-null     int64  \n",
            " 2   MPG.highway         93 non-null     int64  \n",
            " 3   AirBags             93 non-null     object \n",
            " 4   DriveTrain          93 non-null     object \n",
            " 5   EngineSize          93 non-null     float64\n",
            " 6   Horsepower          93 non-null     int64  \n",
            " 7   RPM                 93 non-null     int64  \n",
            " 8   Rev.per.mile        93 non-null     int64  \n",
            " 9   Man.trans.avail     93 non-null     int64  \n",
            " 10  Fuel.tank.capacity  93 non-null     float64\n",
            " 11  Passengers          93 non-null     int64  \n",
            " 12  Length              93 non-null     int64  \n",
            " 13  Wheelbase           93 non-null     int64  \n",
            " 14  Width               93 non-null     int64  \n",
            " 15  Turn.circle         93 non-null     int64  \n",
            " 16  Rear.seat.room      91 non-null     float64\n",
            " 17  Luggage.room        82 non-null     float64\n",
            " 18  Weight              93 non-null     int64  \n",
            " 19  Origin              93 non-null     int64  \n",
            "dtypes: float64(5), int64(13), object(2)\n",
            "memory usage: 15.3+ KB\n"
          ],
          "name": "stdout"
        }
      ]
    },
    {
      "cell_type": "code",
      "metadata": {
        "colab": {
          "base_uri": "https://localhost:8080/"
        },
        "id": "B0SAnZ-NYe_W",
        "outputId": "00818890-a0ed-4531-802f-b8e9b2ea3fd8"
      },
      "source": [
        "X['AirBags']"
      ],
      "execution_count": null,
      "outputs": [
        {
          "output_type": "execute_result",
          "data": {
            "text/plain": [
              "1                   None\n",
              "2     Driver & Passenger\n",
              "3            Driver only\n",
              "4     Driver & Passenger\n",
              "5            Driver only\n",
              "             ...        \n",
              "89                  None\n",
              "90                  None\n",
              "91                  None\n",
              "92           Driver only\n",
              "93    Driver & Passenger\n",
              "Name: AirBags, Length: 93, dtype: object"
            ]
          },
          "metadata": {
            "tags": []
          },
          "execution_count": 13
        }
      ]
    },
    {
      "cell_type": "code",
      "metadata": {
        "id": "n_dVMN__Yvwn",
        "colab": {
          "base_uri": "https://localhost:8080/"
        },
        "outputId": "7c8d9b59-1f67-4023-fd0c-c020cec013d2"
      },
      "source": [
        "X['AirBags']=X['AirBags'].replace({'None':0,'Driver only':1,'Driver & Passenger':2})\n",
        "X.info()"
      ],
      "execution_count": null,
      "outputs": [
        {
          "output_type": "stream",
          "text": [
            "<class 'pandas.core.frame.DataFrame'>\n",
            "Int64Index: 93 entries, 1 to 93\n",
            "Data columns (total 20 columns):\n",
            " #   Column              Non-Null Count  Dtype  \n",
            "---  ------              --------------  -----  \n",
            " 0   Price               93 non-null     float64\n",
            " 1   MPG.city            93 non-null     int64  \n",
            " 2   MPG.highway         93 non-null     int64  \n",
            " 3   AirBags             93 non-null     int64  \n",
            " 4   DriveTrain          93 non-null     object \n",
            " 5   EngineSize          93 non-null     float64\n",
            " 6   Horsepower          93 non-null     int64  \n",
            " 7   RPM                 93 non-null     int64  \n",
            " 8   Rev.per.mile        93 non-null     int64  \n",
            " 9   Man.trans.avail     93 non-null     int64  \n",
            " 10  Fuel.tank.capacity  93 non-null     float64\n",
            " 11  Passengers          93 non-null     int64  \n",
            " 12  Length              93 non-null     int64  \n",
            " 13  Wheelbase           93 non-null     int64  \n",
            " 14  Width               93 non-null     int64  \n",
            " 15  Turn.circle         93 non-null     int64  \n",
            " 16  Rear.seat.room      91 non-null     float64\n",
            " 17  Luggage.room        82 non-null     float64\n",
            " 18  Weight              93 non-null     int64  \n",
            " 19  Origin              93 non-null     int64  \n",
            "dtypes: float64(5), int64(14), object(1)\n",
            "memory usage: 15.3+ KB\n"
          ],
          "name": "stdout"
        }
      ]
    },
    {
      "cell_type": "code",
      "metadata": {
        "id": "coLo4HoPagsN",
        "colab": {
          "base_uri": "https://localhost:8080/"
        },
        "outputId": "a9662e55-361e-4cb5-8cfe-cf831ff379ca"
      },
      "source": [
        "X['DriveTrain']=X['DriveTrain'].replace({'Front':0,'Rear':1,'4WD':2})\n",
        "X.info()"
      ],
      "execution_count": null,
      "outputs": [
        {
          "output_type": "stream",
          "text": [
            "<class 'pandas.core.frame.DataFrame'>\n",
            "Int64Index: 93 entries, 1 to 93\n",
            "Data columns (total 20 columns):\n",
            " #   Column              Non-Null Count  Dtype  \n",
            "---  ------              --------------  -----  \n",
            " 0   Price               93 non-null     float64\n",
            " 1   MPG.city            93 non-null     int64  \n",
            " 2   MPG.highway         93 non-null     int64  \n",
            " 3   AirBags             93 non-null     int64  \n",
            " 4   DriveTrain          93 non-null     int64  \n",
            " 5   EngineSize          93 non-null     float64\n",
            " 6   Horsepower          93 non-null     int64  \n",
            " 7   RPM                 93 non-null     int64  \n",
            " 8   Rev.per.mile        93 non-null     int64  \n",
            " 9   Man.trans.avail     93 non-null     int64  \n",
            " 10  Fuel.tank.capacity  93 non-null     float64\n",
            " 11  Passengers          93 non-null     int64  \n",
            " 12  Length              93 non-null     int64  \n",
            " 13  Wheelbase           93 non-null     int64  \n",
            " 14  Width               93 non-null     int64  \n",
            " 15  Turn.circle         93 non-null     int64  \n",
            " 16  Rear.seat.room      91 non-null     float64\n",
            " 17  Luggage.room        82 non-null     float64\n",
            " 18  Weight              93 non-null     int64  \n",
            " 19  Origin              93 non-null     int64  \n",
            "dtypes: float64(5), int64(15)\n",
            "memory usage: 15.3 KB\n"
          ],
          "name": "stdout"
        }
      ]
    },
    {
      "cell_type": "markdown",
      "metadata": {
        "id": "w3KM4MRFObIn"
      },
      "source": [
        "# Treating Missing Values"
      ]
    },
    {
      "cell_type": "code",
      "metadata": {
        "id": "yq11FBkv6gGA",
        "colab": {
          "base_uri": "https://localhost:8080/"
        },
        "outputId": "ae222382-c3b9-4b75-b3b6-630f2e4f3d92"
      },
      "source": [
        "X['Rear.seat.room'].describe()"
      ],
      "execution_count": null,
      "outputs": [
        {
          "output_type": "execute_result",
          "data": {
            "text/plain": [
              "count    91.000000\n",
              "mean     27.829670\n",
              "std       2.989072\n",
              "min      19.000000\n",
              "25%      26.000000\n",
              "50%      27.500000\n",
              "75%      30.000000\n",
              "max      36.000000\n",
              "Name: Rear.seat.room, dtype: float64"
            ]
          },
          "metadata": {
            "tags": []
          },
          "execution_count": 50
        }
      ]
    },
    {
      "cell_type": "code",
      "metadata": {
        "id": "OHZkByL_ObIv"
      },
      "source": [
        "X['Rear.seat.room'].fillna(X['Rear.seat.room'].median(),inplace=True)  #try with median"
      ],
      "execution_count": null,
      "outputs": []
    },
    {
      "cell_type": "code",
      "metadata": {
        "id": "yzCCd2qlObIx",
        "colab": {
          "base_uri": "https://localhost:8080/"
        },
        "outputId": "4cb5364f-50f2-482c-c029-5dd86fcba5ed"
      },
      "source": [
        "\n",
        "X['Rear.seat.room'].describe()"
      ],
      "execution_count": null,
      "outputs": [
        {
          "output_type": "execute_result",
          "data": {
            "text/plain": [
              "count    93.000000\n",
              "mean     27.822581\n",
              "std       2.956795\n",
              "min      19.000000\n",
              "25%      26.000000\n",
              "50%      27.500000\n",
              "75%      30.000000\n",
              "max      36.000000\n",
              "Name: Rear.seat.room, dtype: float64"
            ]
          },
          "metadata": {
            "tags": []
          },
          "execution_count": 52
        }
      ]
    },
    {
      "cell_type": "code",
      "metadata": {
        "id": "5nlNZUth7ZV6",
        "colab": {
          "base_uri": "https://localhost:8080/"
        },
        "outputId": "f60b4f0f-d758-411b-e691-9252ad993dfa"
      },
      "source": [
        "X['Luggage.room'].describe()"
      ],
      "execution_count": null,
      "outputs": [
        {
          "output_type": "execute_result",
          "data": {
            "text/plain": [
              "count    82.000000\n",
              "mean     13.890244\n",
              "std       2.997967\n",
              "min       6.000000\n",
              "25%      12.000000\n",
              "50%      14.000000\n",
              "75%      15.000000\n",
              "max      22.000000\n",
              "Name: Luggage.room, dtype: float64"
            ]
          },
          "metadata": {
            "tags": []
          },
          "execution_count": 63
        }
      ]
    },
    {
      "cell_type": "code",
      "metadata": {
        "colab": {
          "base_uri": "https://localhost:8080/",
          "height": 282
        },
        "id": "RIDJ3aicyrwD",
        "outputId": "dc43a379-e06c-4265-a905-371fbac3b886"
      },
      "source": [
        "X['Luggage.room'].hist()"
      ],
      "execution_count": null,
      "outputs": [
        {
          "output_type": "execute_result",
          "data": {
            "text/plain": [
              "<matplotlib.axes._subplots.AxesSubplot at 0x7fcd85c58890>"
            ]
          },
          "metadata": {
            "tags": []
          },
          "execution_count": 65
        },
        {
          "output_type": "display_data",
          "data": {
            "image/png": "[encoded data removed]",
            "text/plain": [
              "<Figure size 432x288 with 1 Axes>"
            ]
          },
          "metadata": {
            "tags": [],
            "needs_background": "light"
          }
        }
      ]
    },
    {
      "cell_type": "code",
      "metadata": {
        "colab": {
          "base_uri": "https://localhost:8080/"
        },
        "id": "SZY-f2bFHf77",
        "outputId": "f54fcebf-ddaa-4923-a3cb-546b547d77f4"
      },
      "source": [
        "X['Luggage.room'].fillna(random.choice(X['Luggage.room'].values.tolist()),inplace=True)\n",
        "X['Luggage.room'].describe()"
      ],
      "execution_count": null,
      "outputs": [
        {
          "output_type": "execute_result",
          "data": {
            "text/plain": [
              "count    93.000000\n",
              "mean     13.666667\n",
              "std       2.879211\n",
              "min       6.000000\n",
              "25%      12.000000\n",
              "50%      14.000000\n",
              "75%      15.000000\n",
              "max      22.000000\n",
              "Name: Luggage.room, dtype: float64"
            ]
          },
          "metadata": {
            "tags": []
          },
          "execution_count": 74
        }
      ]
    },
    {
      "cell_type": "markdown",
      "metadata": {
        "id": "D0qZsFm9NIIS"
      },
      "source": [
        "**After filling missing values with random choice **\n",
        "**Look at the histogram**"
      ]
    },
    {
      "cell_type": "code",
      "metadata": {
        "colab": {
          "base_uri": "https://localhost:8080/",
          "height": 282
        },
        "id": "nrZvziGyHRRg",
        "outputId": "1a185015-18d7-4ad0-8215-55d2450c78d1"
      },
      "source": [
        "X['Luggage.room'].hist()"
      ],
      "execution_count": null,
      "outputs": [
        {
          "output_type": "execute_result",
          "data": {
            "text/plain": [
              "<matplotlib.axes._subplots.AxesSubplot at 0x7fcd85b37110>"
            ]
          },
          "metadata": {
            "tags": []
          },
          "execution_count": 75
        },
        {
          "output_type": "display_data",
          "data": {
            "image/png": "[encoded data removed]",
            "text/plain": [
              "<Figure size 432x288 with 1 Axes>"
            ]
          },
          "metadata": {
            "tags": [],
            "needs_background": "light"
          }
        }
      ]
    },
    {
      "cell_type": "code",
      "metadata": {
        "id": "baAKSSFR72pe",
        "colab": {
          "base_uri": "https://localhost:8080/"
        },
        "outputId": "e3342076-dadb-4d20-85e5-5d694b0ec208"
      },
      "source": [
        "Y=pd.DataFrame(X['Price'])\n",
        "type(Y)\n"
      ],
      "execution_count": null,
      "outputs": [
        {
          "output_type": "execute_result",
          "data": {
            "text/plain": [
              "pandas.core.frame.DataFrame"
            ]
          },
          "metadata": {
            "tags": []
          },
          "execution_count": 69
        }
      ]
    },
    {
      "cell_type": "code",
      "metadata": {
        "id": "m7isScT57-Gw",
        "colab": {
          "base_uri": "https://localhost:8080/"
        },
        "outputId": "3598c9ba-a983-449b-c1dd-1e091c220aa0"
      },
      "source": [
        "from sklearn.model_selection import train_test_split\n",
        "xtrain,xtest,ytrain,ytest=train_test_split(X,Y,test_size=0.3,random_state=2)\n",
        "from sklearn.linear_model import LinearRegression\n",
        "model=LinearRegression()\n",
        "model.fit(xtrain,ytrain)\n",
        "y_pred=model.predict(xtest)\n",
        "rmse=np.sqrt(np.mean((ytest-y_pred)**2))\n",
        "rmse"
      ],
      "execution_count": null,
      "outputs": [
        {
          "output_type": "execute_result",
          "data": {
            "text/plain": [
              "Price    5.973572e-14\n",
              "dtype: float64"
            ]
          },
          "metadata": {
            "tags": []
          },
          "execution_count": 76
        }
      ]
    },
    {
      "cell_type": "code",
      "metadata": {
        "id": "VAmSG-rE-Vsw"
      },
      "source": [
        "X1=pd.DataFrame(X.drop(['Price'],axis=1))\n"
      ],
      "execution_count": null,
      "outputs": []
    },
    {
      "cell_type": "code",
      "metadata": {
        "id": "_6QiWARM-t5p",
        "colab": {
          "base_uri": "https://localhost:8080/"
        },
        "outputId": "e06a01fc-2219-4de0-b835-0438cb02a061"
      },
      "source": [
        "X1.info()"
      ],
      "execution_count": null,
      "outputs": [
        {
          "output_type": "stream",
          "text": [
            "<class 'pandas.core.frame.DataFrame'>\n",
            "Int64Index: 93 entries, 1 to 93\n",
            "Data columns (total 19 columns):\n",
            " #   Column              Non-Null Count  Dtype  \n",
            "---  ------              --------------  -----  \n",
            " 0   MPG.city            93 non-null     int64  \n",
            " 1   MPG.highway         93 non-null     int64  \n",
            " 2   AirBags             93 non-null     int64  \n",
            " 3   DriveTrain          93 non-null     int64  \n",
            " 4   EngineSize          93 non-null     float64\n",
            " 5   Horsepower          93 non-null     int64  \n",
            " 6   RPM                 93 non-null     int64  \n",
            " 7   Rev.per.mile        93 non-null     int64  \n",
            " 8   Man.trans.avail     93 non-null     int64  \n",
            " 9   Fuel.tank.capacity  93 non-null     float64\n",
            " 10  Passengers          93 non-null     int64  \n",
            " 11  Length              93 non-null     int64  \n",
            " 12  Wheelbase           93 non-null     int64  \n",
            " 13  Width               93 non-null     int64  \n",
            " 14  Turn.circle         93 non-null     int64  \n",
            " 15  Rear.seat.room      93 non-null     float64\n",
            " 16  Luggage.room        93 non-null     float64\n",
            " 17  Weight              93 non-null     int64  \n",
            " 18  Origin              93 non-null     int64  \n",
            "dtypes: float64(4), int64(15)\n",
            "memory usage: 14.5 KB\n"
          ],
          "name": "stdout"
        }
      ]
    },
    {
      "cell_type": "code",
      "metadata": {
        "id": "go-Vhh5t-TM9",
        "colab": {
          "base_uri": "https://localhost:8080/"
        },
        "outputId": "8f2074b5-1f43-4ee8-8cf4-bd4fcc682333"
      },
      "source": [
        "from sklearn.model_selection import train_test_split,cross_val_score\n",
        "xtrain,xtest,ytrain,ytest=train_test_split(X1,Y,test_size=0.3,random_state=2)\n",
        "from sklearn.linear_model import LinearRegression\n",
        "model=LinearRegression()\n",
        "model.fit(xtrain,ytrain)\n",
        "y_pred=model.predict(xtest)\n",
        "rmse=np.sqrt(np.mean((ytest-y_pred)**2))\n",
        "rmse"
      ],
      "execution_count": null,
      "outputs": [
        {
          "output_type": "execute_result",
          "data": {
            "text/plain": [
              "Price    5.891762\n",
              "dtype: float64"
            ]
          },
          "metadata": {
            "tags": []
          },
          "execution_count": 80
        }
      ]
    },
    {
      "cell_type": "code",
      "metadata": {
        "id": "kvaVhCRHLaN1",
        "colab": {
          "base_uri": "https://localhost:8080/"
        },
        "outputId": "909d6e2f-3c62-4908-f0b2-b301abe6581a"
      },
      "source": [
        "mse=cross_val_score(model,X1,Y,cv=3,scoring='neg_mean_squared_error')\n",
        "rmse=np.sqrt(np.abs(mse))\n",
        "rmse"
      ],
      "execution_count": null,
      "outputs": [
        {
          "output_type": "execute_result",
          "data": {
            "text/plain": [
              "array([6.47377319, 7.29574856, 5.41436168])"
            ]
          },
          "metadata": {
            "tags": []
          },
          "execution_count": 31
        }
      ]
    },
    {
      "cell_type": "code",
      "metadata": {
        "id": "EjDWelVlMKYk",
        "colab": {
          "base_uri": "https://localhost:8080/"
        },
        "outputId": "d247a702-f869-4bf7-a583-78c2f57201cd"
      },
      "source": [
        "bias_error=np.mean(rmse)\n",
        "var_error=np.std(rmse,ddof=1)\n",
        "print(bias_error)\n",
        "print(var_error)"
      ],
      "execution_count": null,
      "outputs": [
        {
          "output_type": "stream",
          "text": [
            "6.3946278116323745\n",
            "0.9431872258443303\n"
          ],
          "name": "stdout"
        }
      ]
    }
  ]
}